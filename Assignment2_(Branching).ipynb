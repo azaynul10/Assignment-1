{
  "nbformat": 4,
  "nbformat_minor": 0,
  "metadata": {
    "colab": {
      "provenance": [],
      "authorship_tag": "ABX9TyM2FgPA05MKfd2coyfPo11M",
      "include_colab_link": true
    },
    "kernelspec": {
      "name": "python3",
      "display_name": "Python 3"
    },
    "language_info": {
      "name": "python"
    }
  },
  "cells": [
    {
      "cell_type": "markdown",
      "metadata": {
        "id": "view-in-github",
        "colab_type": "text"
      },
      "source": [
        "<a href=\"https://colab.research.google.com/github/azaynul10/Assignments-Of-Programming-Language-1/blob/main/Assignment2_(Branching).ipynb\" target=\"_parent\"><img src=\"https://colab.research.google.com/assets/colab-badge.svg\" alt=\"Open In Colab\"/></a>"
      ]
    },
    {
      "cell_type": "markdown",
      "source": [
        "#Task 1\n",
        "Write the Python code of a program that reads two numbers from the user, and prints their sum, product, and difference.\n",
        "\n",
        "Hint: subtract the second number from the first one\n",
        "\n",
        "Example 1:\n",
        "\n",
        "\n",
        "---\n",
        "Sample Input:\n",
        "\n",
        "4\n",
        "\n",
        "5\n",
        "\n",
        "\n",
        "---\n",
        "Sample Output:\n",
        "\n",
        "Sum = 9\n",
        "\n",
        "Product = 20\n",
        "\n",
        "Difference = -1\n",
        "\n",
        "\n",
        "---\n",
        "Example 2:\n",
        "\n",
        "Sample Input:\n",
        "\n",
        "30\n",
        "\n",
        "2\n",
        "\n",
        "\n",
        "---\n",
        "Sample Output:\n",
        "\n",
        "Sum = 32\n",
        "\n",
        "Product = 60\n",
        "\n",
        "Difference = 28\n",
        "\n",
        "\n",
        "---\n",
        "For your explanation, the first question's code is done below. Try relating the block of code with the lessons you have learned and try to understand the significance of each line. You're most welcome to copy and paste the code on your IDE and play around with the code. This will strengthen your understanding.\n",
        "\n",
        "\n",
        "\n"
      ],
      "metadata": {
        "id": "Qpn-BBRU2V_u"
      }
    },
    {
      "cell_type": "code",
      "execution_count": null,
      "metadata": {
        "id": "E47Wayq8_I7a"
      },
      "outputs": [],
      "source": [
        "#Task1\n",
        "num1 = int(input(\"Enter a number: \"))\n",
        "num2 = int(input(\"Enter a number: \"))\n",
        "print(\"Sum =\",num1 + num2)\n",
        "print(\"Product =\",num1*num2)\n",
        "print(\"Difference =\",num1 - num2)"
      ]
    },
    {
      "cell_type": "markdown",
      "source": [
        "#Task 2\n",
        "Write the Python code of a program that reads the radius of a circle and prints its circumference and area.\n",
        "\n",
        "hint(1): we may import math and then use math.pi for getting the value of pi.\n",
        "For details, we can read from https://docs.python.org/3/library/math.html\n",
        "\n",
        "hint(2): we can import math and use the math function for making squares with math.pow(number, power) or we can simply use the power operator. For example: S**2\n",
        "\n",
        "\n",
        "---\n",
        "\n",
        "Example 1:\n",
        "\n",
        "Sample Input:\n",
        "\n",
        "4\n",
        "\n",
        "Sample Output:\n",
        "\n",
        "Area is 50.26548245743669\n",
        "\n",
        "Circumference is 25.132741228718345\n",
        "\n",
        "\n",
        "---\n",
        "Example 2:\n",
        "\n",
        "Sample Input:\n",
        "\n",
        "3.5\n",
        "\n",
        "Sample Output:\n",
        "\n",
        "Area is 38.48451000647496\n",
        "\n",
        "Circumference is 21.991148575128552\n",
        "\n",
        "\n",
        "\n",
        "---\n",
        "\n"
      ],
      "metadata": {
        "id": "qVtd6Uh23poJ"
      }
    },
    {
      "cell_type": "code",
      "source": [
        "#Task2\n",
        "import math\n",
        "radius = float(input(\"Enter a radius of the circle: \"))\n",
        "print(\"Area is\",math.pi*math.pow(radius,2))\n",
        "print(\"Circumference is\",2*math.pi*radius)"
      ],
      "metadata": {
        "id": "lJdB6L5E_PSd"
      },
      "execution_count": null,
      "outputs": []
    },
    {
      "cell_type": "markdown",
      "source": [
        "#Task 3\n",
        "Write the Python code of a program that reads two numbers from the user. The program should then print \"First is greater\" if the first number is greater, \"Second is greater\" if the second number is greater, and \"The numbers are equal\" otherwise.\n",
        "\n",
        "\n",
        "---\n",
        "\n",
        "\n",
        "Sample Input 1:\n",
        "\n",
        "7\n",
        "\n",
        "3\n",
        "\n",
        "Sample Output 1:\n",
        "\n",
        "First is greater\n",
        "\n",
        "\n",
        "---\n",
        "Sample Input 2:\n",
        "\n",
        "-33\n",
        "\n",
        "-3\n",
        "\n",
        "Sample Output 2:\n",
        "\n",
        "Second is greater\n",
        "\n",
        "\n",
        "---\n",
        "Sample Input 1:\n",
        "\n",
        "11\n",
        "\n",
        "11\n",
        "\n",
        "Sample Output 1:\n",
        "\n",
        "The numbers are equal\n",
        "\n"
      ],
      "metadata": {
        "id": "dpAlJA9K445H"
      }
    },
    {
      "cell_type": "code",
      "source": [
        "#Task3\n",
        "num1=int(input(\"Enter a number: \"))\n",
        "num2=int(input(\"Enter another number: \"))\n",
        "if num1>num2:\n",
        "  print(\"First is greater\")\n",
        "elif num1<num2:\n",
        "  print( \"Second is greater\")\n",
        "else:\n",
        "  print(\"The numbers are equal\")     \n"
      ],
      "metadata": {
        "colab": {
          "base_uri": "https://localhost:8080/"
        },
        "id": "iKYzJkzQKdNd",
        "outputId": "eaf30824-ae56-40a3-a84e-32b328fe63d5"
      },
      "execution_count": null,
      "outputs": [
        {
          "output_type": "stream",
          "name": "stdout",
          "text": [
            "Enter a number: 11\n",
            "Enter another number: 11\n",
            "The numbers are equal\n"
          ]
        }
      ]
    },
    {
      "cell_type": "markdown",
      "source": [
        "#Task 4\n",
        "Write the Python code of a program that reads two numbers, subtracts the smaller number from the larger one, and prints the result.\n",
        "\n",
        "Hint: First, we may check which number is greater\n",
        "\n",
        "\n",
        "---\n",
        "\n",
        "\n",
        "Sample Input 1:\n",
        "\n",
        "-40\n",
        "\n",
        "-4\n",
        "\n",
        "Sample Output 1:\n",
        "\n",
        "36\n",
        "\n",
        "Explanation: -4 > -40 so -4 - (-40) = -4 + 40 = 36\n",
        "\n",
        "\n",
        "---\n",
        "\n",
        "Sample Input 2:\n",
        "\n",
        "6\n",
        "\n",
        "2\n",
        "\n",
        "Sample Output 2:\n",
        "\n",
        "4\n",
        "\n",
        "\n",
        "---\n",
        "Sample Input 3:\n",
        "\n",
        "5\n",
        "\n",
        "5\n",
        "\n",
        "Sample Output 3:\n",
        "\n",
        "0\n",
        "\n"
      ],
      "metadata": {
        "id": "99nk_f-J_uCC"
      }
    },
    {
      "cell_type": "code",
      "source": [
        "#Task4\n",
        "num1=int(input(\"Enter a number: \"))\n",
        "num2=int(input(\"Enter another number: \"))\n",
        "if num1>num2:\n",
        "  print(num1-num2)\n",
        "else:\n",
        "    print(num2-num1)"
      ],
      "metadata": {
        "id": "HVwUUe9cOmJ7",
        "colab": {
          "base_uri": "https://localhost:8080/"
        },
        "outputId": "135d059f-5ff2-4da7-85be-9f51656daac8"
      },
      "execution_count": null,
      "outputs": [
        {
          "output_type": "stream",
          "name": "stdout",
          "text": [
            "Enter a number: -40\n",
            "Enter another number: -4\n",
            "36\n"
          ]
        }
      ]
    },
    {
      "cell_type": "markdown",
      "source": [
        "#Task 5\n",
        "Write the Python code of a program that reads a number, and prints \"The number is even\" or \"The number is odd\", depending on whether the number is even or odd.\n",
        "hint(1): we may use the modulus (%) operator to check for even or odd\n",
        "hint(2): we can consider the number to be an integer\n",
        "\n",
        "\n",
        "---\n",
        "\n",
        "\n",
        "Sample Input 1:\n",
        "\n",
        "7\n",
        "\n",
        "Sample Output 1:\n",
        "\n",
        "The number is odd\n",
        "\n",
        "\n",
        "---\n",
        "\n",
        "\n",
        "Sample Input 2:\n",
        "\n",
        "10\n",
        "\n",
        "Sample Output 2:\n",
        "\n",
        "The number is even\n",
        "\n",
        "\n",
        "---\n",
        "\n",
        "\n",
        "\n",
        "Sample Input 3:\n",
        "\n",
        "-44\n",
        "\n",
        "Sample Output 3:\n",
        "\n",
        "The number is even\n"
      ],
      "metadata": {
        "id": "Fqo8UFcPBOGo"
      }
    },
    {
      "cell_type": "code",
      "source": [
        "#Task5\n",
        "num1=int(input(\"Enter a number: \"))\n",
        "if num1%2==0:\n",
        "  print(\"The number is even\")\n",
        "else:\n",
        "    print(\"The number is Task 6\")"
      ],
      "metadata": {
        "colab": {
          "base_uri": "https://localhost:8080/"
        },
        "id": "IeN3s1ocQ9TX",
        "outputId": "96e76fb2-d173-4f44-dea6-80bf36ce0fb0"
      },
      "execution_count": null,
      "outputs": [
        {
          "output_type": "stream",
          "name": "stdout",
          "text": [
            "Enter a number: -44\n",
            "The number is even\n"
          ]
        }
      ]
    },
    {
      "cell_type": "markdown",
      "source": [
        "#Task 6\n",
        "Write the Python code of a program that reads an integer as input from the user, and prints the integer if it is a multiple of 2 OR 5 and prints \"Not a multiple of 2 OR 5\" otherwise.\n",
        "For example, 2, 4, 5, 6, 8, 10, 12, 14, 15, 16, 18, 20, 22 … i.e. this includes multiples of 2 only, multiples of 5 only and multiples of 2 and 5 both.\n",
        "\n",
        "hint(1): we may use the modulus (%) operator for checking the divisibility\n",
        "\n",
        "hint(2): we can consider the number to be an integer\n",
        "\n",
        "\n",
        "---\n",
        "\n",
        "\n",
        "Sample Input 1:\n",
        "\n",
        "5\n",
        "\n",
        "Sample Output 1:\n",
        "\n",
        "5\n",
        "\n",
        "\n",
        "---\n",
        "\n",
        "\n",
        "\n",
        "Sample Input 2:\n",
        "\n",
        "10\n",
        "\n",
        "Sample Output 2:\n",
        "\n",
        "10\n",
        "\n",
        "\n",
        "---\n",
        "\n",
        "\n",
        "Sample Input 3:\n",
        "\n",
        "3\n",
        "\n",
        "Sample Output 3:\n",
        "\n",
        "Not a multiple of 2 OR 5\n",
        "\n",
        "\n"
      ],
      "metadata": {
        "id": "6CNvzaFnBekt"
      }
    },
    {
      "cell_type": "code",
      "source": [
        "#Task6\n",
        "num1=int(input(\"Enter a number: \"))\n",
        "if num1%2==0 or num1%5==0:\n",
        "  print(num1)\n",
        "else:\n",
        "  print(\"Not a multiple of 2 OR 5\")"
      ],
      "metadata": {
        "colab": {
          "base_uri": "https://localhost:8080/"
        },
        "id": "sLvmKOYvSBk3",
        "outputId": "709afef1-0410-41c4-e737-64f8119f1d64"
      },
      "execution_count": null,
      "outputs": [
        {
          "output_type": "stream",
          "name": "stdout",
          "text": [
            "Enter a number: 3\n",
            "Not a multiple of 2 OR 5\n"
          ]
        }
      ]
    },
    {
      "cell_type": "markdown",
      "source": [
        "#Task 7\n",
        "Write the Python code of a program that reads an integer, and prints the integer it is a multiple of either 2 or 5 but not both. If the number is a multiple of 2 and 5 both, then print \"Multiple of 2 and 5 both\". For all other numbers, the program prints \"Not a multiple we want\".\n",
        "For example, 2, 4, 5, 6, 8, 12, 14, 15, 16, 18, 22 … i.e. this includes multiples of 2 only and multiples of 5 only, NOT multiples of 2 and 5 both or other numbers. \n",
        "\n",
        "\n",
        "---\n",
        "\n",
        "\n",
        "hint(1): we may use the modulus (%) operator for checking the divisibility\n",
        "\n",
        "hint(2): we can consider the number to be an integer\n",
        "\n",
        "\n",
        "---\n",
        "\n",
        "\n",
        "Sample Input 1:\n",
        "\n",
        "6\n",
        "\n",
        "Sample Output 1:\n",
        "\n",
        "6\n",
        "\n",
        "\n",
        "---\n",
        "\n",
        "\n",
        "Sample Input 2:\n",
        "\n",
        "15\n",
        "\n",
        "Sample Output 2:\n",
        "\n",
        "15\n",
        "\n",
        "\n",
        "---\n",
        "\n",
        "\n",
        "Sample Input 3:\n",
        "\n",
        "10\n",
        "\n",
        "Sample Output 3:\n",
        "\n",
        "Multiple of 2 and 5 both\n",
        "\n",
        "\n",
        "---\n",
        "\n",
        "\n",
        "Sample Input 4:\n",
        "\n",
        "17\n",
        "\n",
        "Sample Output 4:\n",
        "\n",
        "Not a multiple we want\n"
      ],
      "metadata": {
        "id": "3E17UIbdX1UI"
      }
    },
    {
      "cell_type": "code",
      "source": [
        "#Task7\n",
        "num1=int(input(\"Enter a number: \"))\n",
        "if num1%2==0 and num1%5==0:\n",
        "  print(\"Multiple of 2 and 5 both\")\n",
        "elif num1%2==0 or num1%5==0:\n",
        "  print(num1)\n",
        "else:\n",
        "  print(\"Not a multiple we want\")  "
      ],
      "metadata": {
        "colab": {
          "base_uri": "https://localhost:8080/"
        },
        "id": "gOhBhfQOS22s",
        "outputId": "ac215142-0d84-4f41-f96a-ed0246a3aa04"
      },
      "execution_count": null,
      "outputs": [
        {
          "output_type": "stream",
          "name": "stdout",
          "text": [
            "Enter a number: 15\n",
            "15\n"
          ]
        }
      ]
    },
    {
      "cell_type": "markdown",
      "source": [
        "#Task 8\n",
        "Write the Python code of a program that reads an integer, and prints the integer if it is a multiple of 2 AND 5 and prints \"Not multiple of 2 and 5 both\" otherwise.\n",
        "\n",
        "For example, 10, 20, 30, 40, 50 … i.e. this only includes numbers which are multiples of both 2 and 5. \n",
        "\n",
        "\n",
        "---\n",
        "\n",
        "\n",
        "hint(1): we may use the modulus (%) operator for checking the divisibility\n",
        "\n",
        "hint(2): we can consider the number to be an integer\n",
        "\n",
        "\n",
        "---\n",
        "\n",
        "\n",
        "Sample Input 1:\n",
        "\n",
        "30\n",
        "\n",
        "Sample Output 1:\n",
        "\n",
        "30\n",
        "\n",
        "\n",
        "---\n",
        "\n",
        "\n",
        "Sample Input 2:\n",
        "\n",
        "15\n",
        "\n",
        "Sample Output 2:\n",
        "\n",
        "Not multiple of 2 and 5 both\n",
        "\n",
        "\n",
        "---\n",
        "\n",
        "\n",
        "Sample Input 3:\n",
        "\n",
        "6\n",
        "\n",
        "Sample Output 3:\n",
        "\n",
        "Not multiple of 2 and 5 both\n"
      ],
      "metadata": {
        "id": "OHzheXiXYvLu"
      }
    },
    {
      "cell_type": "code",
      "source": [
        "#Task8\n",
        "num1=int(input(\"Enter a number: \"))\n",
        "if num1%2==0 and num1%5==0:\n",
        "  print(num1)\n",
        "else:\n",
        "  print(\"Not multiple of 2 and 5 both\")"
      ],
      "metadata": {
        "colab": {
          "base_uri": "https://localhost:8080/"
        },
        "id": "IMO_0V9GVV98",
        "outputId": "59d138b1-f287-466d-aeac-a2f1550a97cf"
      },
      "execution_count": null,
      "outputs": [
        {
          "output_type": "stream",
          "name": "stdout",
          "text": [
            "Enter a number: 6\n",
            "Not multiple of 2 and 5 both\n"
          ]
        }
      ]
    },
    {
      "cell_type": "markdown",
      "source": [
        "#Task 9\n",
        "Write the Python code of a program that finds the number of hours, minutes, and seconds in a given number of seconds. The number of seconds is taken as input from the user. \n",
        "\n",
        "\n",
        "---\n",
        "\n",
        "\n",
        "hint(1): we may consider our user input to be an integer value and use // and % operators to solve the problem\n",
        "\n",
        "hint(2): 1 hour = 60 mins = 3600 seconds and 1 min = 60 seconds\n",
        "\n",
        "\n",
        "---\n",
        "\n",
        "\n",
        "Sample Input 1:\n",
        "\n",
        "10000\n",
        "Sample Output 1:\n",
        "\n",
        "Hours: 2 Minutes: 46 Seconds: 40\n",
        "\n",
        "Explanation:\n",
        "\n",
        "10000 seconds = 10000 // 3600 = 2 hours and 10000 % 3600 = 2800 seconds.\n",
        "Then again, 2800 // 60 = 46 minutes and 2800 % 60 = 40 seconds.\n",
        "And hence we have arrived at our answer.\n",
        "\n",
        "\n",
        "---\n",
        "\n",
        "\n",
        "Sample Input 2:\n",
        "\n",
        "500\n",
        "\n",
        "Sample Output 2:\n",
        "\n",
        "Hours: 0 Minutes: 8 Seconds: 20\n",
        "\n"
      ],
      "metadata": {
        "id": "jl1gcSL9Zp4B"
      }
    },
    {
      "cell_type": "code",
      "source": [
        "#Task9\n",
        "time=int(input(\"Enter a number: \"))\n",
        "hour=time//3600\n",
        "sec1=time%3600\n",
        "min=sec1//60\n",
        "sec2=sec1%60\n",
        "print(f'Hours: {hour} Minutes: {min} Seconds: {sec2}')\n"
      ],
      "metadata": {
        "colab": {
          "base_uri": "https://localhost:8080/"
        },
        "id": "ButT4M2RWATD",
        "outputId": "0185c9c3-eee6-4880-8353-b885dbbce961"
      },
      "execution_count": null,
      "outputs": [
        {
          "output_type": "stream",
          "name": "stdout",
          "text": [
            "Enter a number: 500\n",
            "Hours: 0 Minutes: 8 Seconds: 20\n"
          ]
        }
      ]
    },
    {
      "cell_type": "markdown",
      "source": [
        "#Task 10\n",
        "Write a Python program to compute and display a person’s weekly salary as determined by the following conditions:\n",
        "If the hours worked is less than or equal to 40, then the person receives Tk 200 per hour.\n",
        "If the hours worked is greater than 40, then the person receives Tk 8000 plus Tk 300 for each hour worked over 40 hours.\n",
        "The program should request the hours worked as an input from the user and display the salary as output. You need to make sure that user input is valid. For example, a person cannot work for -5 hours or more than 168 hours in a week. So, the valid hours range is 0 to 168. For invalid hours, print outputs as given in the samples below.\n",
        "Hint: you can consider the hour (user input) to be an integer\n",
        "\n",
        "\n",
        "---\n",
        "\n",
        "\n",
        "Sample Input 1:\n",
        "\n",
        "100\n",
        "Sample Output 1:\n",
        "\n",
        "26000\n",
        "\n",
        "Explanation: Since, the number of hours worked is 100 > 40, therefore salary = 8000 + (100 - 40) * 300 = 26000.\n",
        "\n",
        "\n",
        "---\n",
        "\n",
        "\n",
        "Sample Input 2:\n",
        "\n",
        "30\n",
        "Sample Output 2:\n",
        "\n",
        "6000\n",
        "\n",
        "Explanation: Since, the number of hours worked is 30 < 40, therefore salary = 30 * 200 = 6000.\n",
        "\n",
        "\n",
        "---\n",
        "\n",
        "\n",
        "Sample Input 3:\n",
        "\n",
        "-30\n",
        "\n",
        "Sample Output 3:\n",
        "\n",
        "Hour cannot be negative\n",
        "\n",
        "\n",
        "---\n",
        "\n",
        "\n",
        "Sample Input 4:\n",
        "\n",
        "170\n",
        "\n",
        "Sample Output 4:\n",
        "\n",
        "Impossible to work more than 168 hours weekly\n"
      ],
      "metadata": {
        "id": "vo0AlEllaHX1"
      }
    },
    {
      "cell_type": "code",
      "source": [
        "#Task10\n",
        "hour=int(input(\"Enter a number: \"))\n",
        "if hour>=0 and hour<168:\n",
        "  if hour<40 or hour==40:\n",
        "    print(hour*200)\n",
        "  else:\n",
        "    print(8000+((100-40)*300))\n",
        "elif hour<0:\n",
        "  print(\"Hour cannot be negative\")      \n",
        "else:\n",
        "  print(\"Impossible to work more than 168 hours weekly\")"
      ],
      "metadata": {
        "colab": {
          "base_uri": "https://localhost:8080/"
        },
        "id": "XxIPmyN5YElb",
        "outputId": "8fb0ee5a-d102-4d8b-b3ad-870f81e63d02"
      },
      "execution_count": null,
      "outputs": [
        {
          "output_type": "stream",
          "name": "stdout",
          "text": [
            "Enter a number: 100\n",
            "26000\n"
          ]
        }
      ]
    },
    {
      "cell_type": "markdown",
      "source": [
        "#Task11\n",
        "Suppose the following expressions are used to calculate the values of L for different values of S:\n",
        "\n",
        "![Screenshot 2022-11-20 121119.png](data:image/png;base64,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)\n",
        "\n",
        "Write the Python code of a program that reads a value of S and then calculates the value of L.\n",
        "\n",
        "\n",
        "---\n",
        "\n",
        "\n",
        "hint(1): you can import math and use math function for making squares with math.pow(number, power) or you can simply write S ** 2.\n",
        "\n",
        "hint(2): the value of S(user input) will be an integer.\n",
        "\n",
        "\n",
        "---\n",
        "\n",
        "\n",
        "Sample Input 1:\n",
        "\n",
        "120\n",
        "\n",
        "Sample Output 1:\n",
        "\n",
        "2416.2162162162163\n",
        "\n",
        "Explanation: Since S (user input) given here is 120 >= 100, so L = 12000 / (4 + (120 * 120)/14900) = 2416.2162162162163\n",
        "\n",
        "\n",
        "---\n",
        "Sample Input 2:\n",
        "\n",
        "3\n",
        "\n",
        "Sample Output 2:\n",
        "\n",
        "1875\n",
        "\n",
        "Explanation: Since S (user input) given here is 3 < 100, so L = 3000 - 125 * 3 * 3 = 1875\n",
        "\n"
      ],
      "metadata": {
        "id": "wnENJaSRp5V-"
      }
    },
    {
      "cell_type": "code",
      "source": [
        "#Task11\n",
        "S=int(input(\"Enter a number: \"))\n",
        "if S>100 or S==100:\n",
        "  print(12000/(4+(S**2/14900)))\n",
        "else:\n",
        "  print(3000-125*S**2)  "
      ],
      "metadata": {
        "colab": {
          "base_uri": "https://localhost:8080/"
        },
        "id": "C7aVZCxTe-x_",
        "outputId": "1d430d8d-0ba8-427e-f7b0-c46a94c948b2"
      },
      "execution_count": null,
      "outputs": [
        {
          "output_type": "stream",
          "name": "stdout",
          "text": [
            "Enter a number: 3\n",
            "1875\n"
          ]
        }
      ]
    },
    {
      "cell_type": "markdown",
      "source": [
        "#Task 12\n",
        "Write a Python program that takes an hour from the user as input and tells it is time for which meal.\n",
        "\n",
        "• The user will input the number in a 24-hour format. So, 14 means 2 pm, 3 means 3 am, 18 means 6 pm, etc.\n",
        "\n",
        "• Valid inputs are 0 to 23. Inputs less than 0 or more than 23 are invalid in 24-hour clock.\n",
        "\n",
        "• Assume, input will be whole numbers. For example, 3.5 will NOT be given as input.\n",
        "\n",
        "\n",
        "---\n",
        "\n",
        "\n",
        "Input range: Message to be printed\n",
        "\n",
        "4 to 6: Breakfast\n",
        "\n",
        "12 to 13: Lunch\n",
        "\n",
        "16 to 17: Snacks\n",
        "\n",
        "19 to 20: Dinner\n",
        "\n",
        "For all other valid inputs, say \"Patience is a virtue\"\n",
        "\n",
        "For all other invalid inputs, say \"Wrong time\"\n",
        "\n",
        "\n",
        "---\n",
        "\n",
        "\n",
        "For example,\n",
        "\n",
        "If the user enters 4, your program should print the message \"Breakfast\".\n",
        "\n",
        "If the user enters 5, your program should print the message \"Breakfast\".\n",
        "\n",
        "If the user enters 6, your program should print the message \"Breakfast\".\n",
        "\n",
        "If the user enters 0, your program should print the message \"Patience is a \n",
        "virtue\".\n",
        "\n",
        "If the user enters 1, your program should print the message \"Patience is a virtue\".\n",
        "\n",
        "If the user enters 18, your program should print the message \"Patience is a virtue\".\n",
        "\n",
        "If the user enters 23, your program should print the message \"Patience is a virtue\".\n",
        "\n",
        "If the user enters 24, your program should print the message \"Wrong Time\".\n",
        "\n",
        "If the user enters -1, your program should print the message \"Wrong Time\".\n",
        "\n",
        "If the user enters 27, your program should print the message \"Wrong time\".\n",
        "\n",
        "\n",
        "---\n",
        "\n",
        "\n",
        "Hints: You can use nested conditionals (if-else) or chained conditions (if-elif-else) to solve this problem.\n",
        "\n"
      ],
      "metadata": {
        "id": "VsL4ZK3_sBGI"
      }
    },
    {
      "cell_type": "code",
      "source": [
        "#Task12\n",
        "time=int(input(\"Enter a number: \"))\n",
        "if time>=0 and time=<23:\n",
        "  if time>=4 and time=<6:\n",
        "    print(\"Breakfast\")\n",
        "  elif time>=12 and time=<13:\n",
        "    print(\"Lunch\")\n",
        "  elif time>=16 and time=<17:\n",
        "    print(\"Snacks\")\n",
        "  elif time>=19 and time=<20:\n",
        "    print(\"Dinner\") \n",
        "  else:\n",
        "    print(\"Patience is a virtue\")\n",
        "else:\n",
        "  print(\"Wrong time\")         \n"
      ],
      "metadata": {
        "colab": {
          "base_uri": "https://localhost:8080/"
        },
        "id": "iFZPy6_rghSv",
        "outputId": "11230689-2cfb-4f23-feaf-7d3571e93f29"
      },
      "execution_count": null,
      "outputs": [
        {
          "output_type": "stream",
          "name": "stdout",
          "text": [
            "Enter a number: 4\n",
            "Patience is a virtue\n"
          ]
        }
      ]
    },
    {
      "cell_type": "markdown",
      "source": [
        "#Task 13\n",
        "Write the Python code of a program that reads a student’s mark for a single subject, and prints out the corresponding grade for that mark. The mark ranges and corresponding grades are shown in the table below. You need to make sure that the mark is valid. For example, a student cannot receive -5 or 110 marks. So, the valid marks range from 0 to 100.\n",
        "\n",
        "\n",
        "---\n",
        "\n",
        "\n",
        "\n",
        "hint(1): you can consider the number to be an integer\n",
        "\n",
        "hint(2): this problem can be solved in two ways: top-down (starts from A) and bottom-up (starts from F)\n",
        "\n",
        "\n",
        "---\n",
        "\n",
        "\n",
        "\n",
        "\n",
        "Marks: 90 or above\n",
        "\n",
        "Grade: A\n",
        "\n",
        "\n",
        "---\n",
        "\n",
        "\n",
        "Marks: 80-89\n",
        "\n",
        "Grade: B\n",
        "\n",
        "\n",
        "---\n",
        "\n",
        "\n",
        "Marks: 70-79\n",
        "\n",
        "Grade: C\n",
        "\n",
        "\n",
        "---\n",
        "\n",
        "\n",
        "Marks: 60-69\n",
        "\n",
        "Grade: D\n",
        "\n",
        "\n",
        "---\n",
        "\n",
        "\n",
        "Marks: 50-59\n",
        "\n",
        "Grade E\n",
        "\n",
        "\n",
        "---\n",
        "\n",
        "\n",
        "Marks: Below 50\n",
        "\n",
        "Grade: F\n",
        "\n"
      ],
      "metadata": {
        "id": "alk4ILdhtBkl"
      }
    },
    {
      "cell_type": "code",
      "source": [
        "#Task13\n",
        "grade=int(input(\"Enter your mark: \"))\n",
        "if grade>=0 and grade<=100:\n",
        "  if grade==90 or grade>90:\n",
        "    print(\"A\")\n",
        "  elif grade==80 or grade>80:\n",
        "    print(\"B\")\n",
        "  elif grade==70 or grade>70:\n",
        "    print(\"C\")\n",
        "  elif grade==60 or grade>60:\n",
        "    print(\"D\")\n",
        "  elif grade>=50 or grade<=59:  \n",
        "    print(\"E\")\n",
        "  else:\n",
        "    print(\"F\")\n",
        "else:\n",
        "  pass          "
      ],
      "metadata": {
        "colab": {
          "base_uri": "https://localhost:8080/"
        },
        "id": "MhmvMcUYgS37",
        "outputId": "19100efc-1e2e-4322-8ea9-1fd740b970f6"
      },
      "execution_count": 2,
      "outputs": [
        {
          "output_type": "stream",
          "name": "stdout",
          "text": [
            "Enter your mark: 85\n",
            "B\n"
          ]
        }
      ]
    },
    {
      "cell_type": "markdown",
      "source": [
        "#Task 14\n",
        "Suppose, your friend is building an automated car called “Besla”. He needs to fix the programming of the car so that it runs at a proper speed. Now, write a python program that takes 2 inputs (distance in meters and time in seconds). The program should then print the velocity in kilometers per hour of that car. Also, it should print whether the car is working properly based on the following chart.\n",
        "\n",
        "\n",
        "---\n",
        "Velocity: Less than 60 km/h\n",
        "\n",
        "Information to be printed: Too slow. Needs more changes.\n",
        "\n",
        "\n",
        "---\n",
        "\n",
        "\n",
        "Velocity: Between 60 km/h to 90 km/h\n",
        "\n",
        "Information to be printed: Velocity is okay. The car is ready!\n",
        "\n",
        "\n",
        "---\n",
        "\n",
        "\n",
        "Velocity: Greater than 90 km/h\n",
        "\n",
        "Information to be printed: Too fast. Only a few changes should suffice.\n",
        "\n",
        "\n",
        "\n",
        "---\n",
        "\n",
        "\n",
        "Sample Input 1:\n",
        "\n",
        "160000\n",
        "\n",
        "7200\n",
        "\n",
        "Sample Output 1:\n",
        "\n",
        "80.0 km/h\n",
        "\n",
        "Velocity is okay. The car is ready!\n",
        "\n",
        "Explanation: After the conversion of distance and time, the velocity is (160/2) km/h = 80 km/h. So the velocity is okay\n",
        "\n",
        "\n",
        "---\n",
        "\n",
        "\n",
        "Sample Input 2:\n",
        "\n",
        "25400\n",
        "\n",
        "3600\n",
        "\n",
        "Sample Output 2:\n",
        "\n",
        "25.4 km/h\n",
        "\n",
        "Too slow. Needs more changes.\n",
        "\n",
        "Explanation: After the conversion of distance and time, the velocity is (25.4/1) km/h = 25.4 km/h. So the speed is too slow.\n",
        "\n"
      ],
      "metadata": {
        "id": "vwOcodDPt-OL"
      }
    },
    {
      "cell_type": "code",
      "source": [
        "#Task14\n",
        "time=int(input(\"Enter the time in seconds: \"))\n",
        "distance=int(input(\"Enter the distance in meter: \"))\n",
        "velocity=(distance/1000)/(time/3600)\n",
        "print(velocity,\"km/h\")\n",
        "if velocity<60:\n",
        "  print(\"Too slow. Needs more changes.\")\n",
        "elif velocity>60 or velocity<90 or velocity==60 or velocity==90:\n",
        "  print(\"Velocity is okay. The car is ready!\")\n",
        "else:\n",
        "  print(\"Too fast. Only a few changes should suffice.\")    "
      ],
      "metadata": {
        "colab": {
          "base_uri": "https://localhost:8080/"
        },
        "id": "oB4paB3tnwec",
        "outputId": "6dc8da5f-4f03-40d6-98bb-22bb00e26dae"
      },
      "execution_count": null,
      "outputs": [
        {
          "output_type": "stream",
          "name": "stdout",
          "text": [
            "Enter the time in seconds: 3600\n",
            "Enter the distance in meter: 25400\n",
            "25.4\n",
            "Too slow. Needs more changes.\n"
          ]
        }
      ]
    },
    {
      "cell_type": "markdown",
      "source": [
        "#Task 15\n",
        "Write a python program that takes the CGPA and no of credits completed by a student and prints whether the student is eligible for a waiver and of what percentage.\n",
        "To be eligible for a waiver, a student must have completed at least 30 credits and earned a CGPA greater or equal to 3.8. If not, please print \"The student is not eligible for a waiver\".\n",
        "\n",
        "\n",
        "---\n",
        "\n",
        "\n",
        "CGPA:\n",
        "3.80 - 3.89\n",
        "Waiver percentage:\n",
        "25 percent\n",
        "\n",
        "\n",
        "---\n",
        "\n",
        "\n",
        "CGPA:\n",
        "3.90 - 3.94\n",
        "\n",
        "\n",
        "\n",
        "\n",
        "Waiver percentage:\n",
        "50 percent\n",
        "\n",
        "\n",
        "---\n",
        "\n",
        "\n",
        "CGPA:\n",
        "3.95 - 3.99\n",
        "\n",
        "\n",
        "\n",
        "\n",
        "\n",
        "Waiver percentage:\n",
        "75 percent\n",
        "\n",
        "\n",
        "---\n",
        "\n",
        "\n",
        "CGPA:\n",
        "4.00\n",
        "Waiver percentage:\n",
        "100 percent\n",
        "\n",
        "\n",
        "\n",
        "---\n",
        "\n",
        "\n",
        "\n",
        "Sample Input 1:\n",
        "\n",
        "3.93\n",
        "\n",
        "78\n",
        "\n",
        "Sample Output 1:\n",
        "\n",
        "The student is eligible for a waiver of 50 percent.\n",
        "\n",
        "\n",
        "---\n",
        "\n",
        "\n",
        "Sample Input 2:\n",
        "\n",
        "3.79\n",
        "\n",
        "24\n",
        "\n",
        "Sample Output 2:\n",
        "\n",
        "The student is not eligible for a waiver\n"
      ],
      "metadata": {
        "id": "ZvImPmkyvoe7"
      }
    },
    {
      "cell_type": "code",
      "source": [
        "#Task15\n",
        "cgpa=float(input(\"Enter your cgpa: \"))\n",
        "credit=int(input(\"Enter the number of credits: \"))\n",
        "if credit>29 and cgpa>3.8 or cgpa==3.8:\n",
        "  if cgpa==3.80 or cgpa<3.90:\n",
        "    print(\"The student is eligible for a waiver of 25 percent.\")\n",
        "  elif cgpa==3.90 or cgpa<3.95:\n",
        "    print(\"The student is eligible for a waiver of 50 percent.\")\n",
        "  elif cgpa==3.95 or cgpa<4.00:\n",
        "    print(\"The student is eligible for a waiver of 75 percent.\")\n",
        "  else:\n",
        "    print(\"The student is eligible for a waiver of 100 percent.\")\n",
        "else:\n",
        "  print(\"The student is not eligible for a waiver\")"
      ],
      "metadata": {
        "id": "PoXwXHKJxS8Q",
        "colab": {
          "base_uri": "https://localhost:8080/"
        },
        "outputId": "f45a2459-4a59-4847-fac5-01ea5157984b"
      },
      "execution_count": null,
      "outputs": [
        {
          "output_type": "stream",
          "name": "stdout",
          "text": [
            "Enter your cgpa: 3.79\n",
            "Enter the number of credits: 20\n",
            "The student is not eligible for a waiver\n"
          ]
        }
      ]
    }
  ]
}