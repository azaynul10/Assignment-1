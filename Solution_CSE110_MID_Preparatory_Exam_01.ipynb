{
  "nbformat": 4,
  "nbformat_minor": 0,
  "metadata": {
    "colab": {
      "provenance": [],
      "include_colab_link": true
    },
    "kernelspec": {
      "name": "python3",
      "display_name": "Python 3"
    },
    "language_info": {
      "name": "python"
    }
  },
  "cells": [
    {
      "cell_type": "markdown",
      "metadata": {
        "id": "view-in-github",
        "colab_type": "text"
      },
      "source": [
        "<a href=\"https://colab.research.google.com/github/azaynul10/Assignments-Of-Programming-Language-1/blob/main/Solution_CSE110_MID_Preparatory_Exam_01.ipynb\" target=\"_parent\"><img src=\"https://colab.research.google.com/assets/colab-badge.svg\" alt=\"Open In Colab\"/></a>"
      ]
    },
    {
      "cell_type": "markdown",
      "source": [
        "**Things to Consider:**\n",
        "\n",
        "\n",
        "---\n",
        "\n",
        "\n",
        "* \"STOP\" and length of list\n",
        "\n",
        "  1.   Only break the loop when length is 2 or greater than 2 and user gives 'STOP'\n",
        "  2.   Even if user gives 'STOP' before length requirement, make sure not to append in the list\n",
        "\n"
      ],
      "metadata": {
        "id": "xa_aSsvuN5RN"
      }
    },
    {
      "cell_type": "code",
      "execution_count": null,
      "metadata": {
        "id": "ONfokKxOta_q"
      },
      "outputs": [],
      "source": [
        "user_list=[]\n",
        "\n",
        "while True:\n",
        "\n",
        "  temp=input()\n",
        "\n",
        "  if temp.upper() == \"STOP\" and len(user_list)>=2:\n",
        "    break\n",
        "\n",
        "  elif temp.upper() == \"STOP\" and len(user_list)<2:\n",
        "    print(\"Element Number is less than 2. Keep entering value\")\n",
        "\n",
        "  else:\n",
        "    user_list.append(temp)"
      ]
    },
    {
      "cell_type": "code",
      "source": [
        "print(user_list)"
      ],
      "metadata": {
        "id": "SiPoSHbHO-TE"
      },
      "execution_count": null,
      "outputs": []
    },
    {
      "cell_type": "markdown",
      "source": [
        "**Things to Consider:**\n",
        "\n",
        "\n",
        "---\n",
        "\n",
        "\n",
        "* As 3 times right shift, so add 3 with ASCII value of particular small letter. Then use chr() to get shifted character. For example: \"a\" will be \"d\". So, 97(ASCII value of \"a\")+3=100 (ASCII value of \"d\")\n",
        "\n",
        "* Now there are two scenarios:\n",
        "\n",
        "  1.   Firstly, normal scenario. Add 3 with ASCII vaue then reverse it to get character. It is the first condition.\n",
        "\n",
        "  2.   However, 1st scenario works only when ASCII value of small letter is within 97-119 range. Because, 119+3=122. In second condition, when its within 120-122 range, we need calculate such that we can start from \"a\" again.\n",
        "\n",
        "    *   So, we subtract 122-ASCII value of small letter and take absolute value to get how many slots we shifted before starting from \"a\"\n",
        "\n",
        "    *   Then, we subtract that value from 2. Why 2 and not 3? Because we considered \"z\" --> \"a\" shift. After this, we add this value with 97. For example: \"x\" --> \"a\". Here, 122-120=2. These 2 shift count is because \"x\" shifted to \"z\". Then we subtract this from 2 not 3. Because we are not counting \"z\"--> \"a\". So, 2-2=0. Then add 0 with 97 and chr(97) is \"a\".\n",
        "\n",
        "\n",
        "---\n",
        "\n",
        "\n",
        "**Done!!**\n",
        "\n",
        "\n",
        "\n",
        "\n",
        "\n"
      ],
      "metadata": {
        "id": "vrsoR6DhUd2q"
      }
    },
    {
      "cell_type": "code",
      "source": [
        "for string in range(1,len(user_list),2):\n",
        "  output_string=\"\"\n",
        "\n",
        "  for i in user_list[string]:\n",
        "    check=ord(i)\n",
        "    if 97<=check<=122:\n",
        "\n",
        "        if 97<=check<=(122-3):\n",
        "          output_string=output_string+chr(check+3)\n",
        "\n",
        "        else:\n",
        "          subtract=abs(check-122)\n",
        "          temp2=chr(97 + 2-subtract)\n",
        "          output_string=output_string + temp2\n",
        "\n",
        "    else:\n",
        "     output_string=output_string + i\n",
        "\n",
        "  user_list[string]=output_string"
      ],
      "metadata": {
        "id": "glAS0GXkLFrt"
      },
      "execution_count": null,
      "outputs": []
    },
    {
      "cell_type": "code",
      "source": [
        "print(user_list)"
      ],
      "metadata": {
        "id": "Z8h8bCwfLv1A"
      },
      "execution_count": null,
      "outputs": []
    },
    {
      "cell_type": "code",
      "source": [
        "#Tracing\n",
        "user_list = [1,5,9,7,8,6,3,2,4,9]\n",
        "c=[0,1,2,3,4,5,6,7,8,9]\n",
        "index1 = 0\n",
        "index2 = 5\n",
        "\n",
        "c=user_list.copy()\n",
        "while (index1 < 10):\n",
        "  user_list[index1] = index1 + 1\n",
        "  if index1 > index2 and index2>0:\n",
        "    index2 = index2-1\n",
        "  x=0\n",
        "  while x<2:\n",
        "    user_list[index1] = c[index2] + user_list[index2] + x - index1\n",
        "    x=x+1\n",
        "  if index1<5:\n",
        "    print(user_list[index1])\n",
        "  else:\n",
        "    print(c[index1-1]+user_list[index1])\n",
        "  index1 = index1 + 1"
      ],
      "metadata": {
        "id": "Gpm7mK6odY4n"
      },
      "execution_count": null,
      "outputs": []
    },
    {
      "cell_type": "markdown",
      "source": [
        "![Screenshot 2022-07-14 190107.png](data:image/png;base64,iVBORw0KGgoAAAANSUhEUgAAAuMAAAEJCAYAAAA+SindAAAAAXNSR0IArs4c6QAAAARnQU1BAACxjwv8YQUAAAAJcEhZcwAADsMAAA7DAcdvqGQAADnCSURBVHhe7d1/bBzneeDxh/dHUQSHwjn0cGdIqewrl+6R9B+K4fNl15daPSguVypCuy6dQxzQSY3duNKVzLlCZYctgla1dVBVL1up9i7S1EQcNGbUhLmIu0mEOyluuI6as/VHSF3N3Zwtx4ILOLj4/inuv733feed3dnlD9mW9sf78PsBxpyZXdH7cGbfeeadZ94ZKhaLDQGwYxxf/1s/h1AcHflNPwcA0MYl49Mf/kW/iEF39I2Sn9Pn6fu/7ecGxPeG/AwAAEB3/DP/EwAAAECPkYwDAAAAfUIyDgAAAPQJyTgAAADQJyTjAAAAQJ+QjAMAAAB9QjIOAAAA9AnJOAAAANAnJOMAAABAn5CMAwAAAH1CMg4AAAD0Cck4AAAA0Cck4wAAAECfkIwDAHAD1M+IZO4RGfJT/qJ/AQC2QTIOAMB1sol46pRI1S9bpd8Xmb/qFwBgC0PFYrEx/eFf9IsYdEffKPk5fR657aSfGwxjPx33cwCwvfw9Jvk2P9OHRVYeMDMmCZ9/0vx8QmRml30HAGyOZDwwmpPxp+//tp8bEN8b8jMAsA2TeGc+GfWKly+ITERrAeBdoUwFAIDr8WZ7eQoAvBck4wAAXI/dImk/e+yMn7FlKoeoGQdwbSTjAABcj10icwej2eopP5rKJ0Vm16J1ALAdknEAAK7TxO+JlE1CHveQW7nD3LwJ4NpIxgEAuAFsQr5yQaThp6IdVQUAroFkHAAAAOgTknEAAACgT0jGAQAAgD4hGQcAAAD6hGQcAAAA6JPuJuPVZ+Xn7/xN+fnPnJUf+1UqaI0LAAAAPdWejL95Vu6xSeadT8ipN/26gfWWfOepJ6Kk+M5n5Tt+7aZCievNS3LKxBR91ujz3vPUpW0S/n+S18+uyQtPfEcKvxlPF+WFZ6/I62/5twAAAGBgBVmm8uPqsyZhPSwf//qrfo0Gl+TQfcfk90xMP/BrRMz814/JmEnIN/qp/Pcn/k6W/vpNeavtz/COvHXuH2Tp8EW59D4S8tef9Un9sz/1a7qjV/8fAACAQdaejO8+KBd++Lfy/374pBze7dcNoPr3zonc/2n55n/Z79dcQyBxye375U/nT5nPaT7rNz4tv+1Xy9cvbuj5f/3Zl+VHLgm/SW6f+w8y+7f3uunhuV+Rm9073pHv/cUV818AAAAMqmuUqbwlpz5jl5+V77x5SQ65+Wi656nOeulk2YiZPmP+zRX/Uocf/43t2U7+rlYpxo//xv+ORD32d57y7/ubqKv33sf/Vi48flDu3eMWry2IuPbK6S99Vg6no1Radt8h//b2aHajn8qPzfmIdfOnb5f/uPcD0YJx0949cu+nb4oWXv1Hec39yf5JLvlSlv+e7GS/tBb1Tj9hk/boPUv+98q5lxM91/G/X5PX3/qpXHr2YvSamWxJTCvhf///HwAAgJ1oqFgsNqY//IvRkk1a7/tr+YHcJn/6DduLbJPWw/J7P4pe3uD+Ofl/j+91szax/PjX3exGt39a1r50UH7ZzG75vuZ7THJ85zH5K7Pq3/+XU3LhP7zsP9N++eYPPyv3Ru+O2BspZ2xWt8lrSaHF5bTen/w8R98oRcntMXtWcZP86qm7ZK/P35veuiIvHP4Hcxph/vdz95pk3SbAfyffezVejt7W/D23/Yo8/OS/lNf8e9rsv0NmP/uB5r/flPv3e8ynef//H9ur/8htJ/3SYHj77bf9HAAAQHe8+5rx203S+A1b6nFKvnm/X1e76nt5L8l/84moTTSjMos5+dPOnl2TFD/l3meTYvu7ove5cowfVaXieq33yun5qPzkB3/2F3LPH9qE1f7ej2+dbF+PAY3rO0/5RNwm6z4R764PyN4n75XJuPLHJuG29OWz/kQtZhLqyVO+JGZDD/y7sfn/xxobGxuoCQAAoNvedTL+2498Vu519dY3y72/2lGr/eZVWXMz++Xx/xSXWeyVw490vO+NN10Cam9M/L37ohKNn78vTjpflf/1hpsRSX/WJ8avyg9s7/Xtn5a/in/vDTaIcdmSlqiX3Sb32/T4X9NN8i/+tZ+9QW7/rT1yi//INx38ZYnOS96R//OPbgYAAADvwYCOpvKW1Gp+1vrRm1L3s2G7VlxRffrYn9kajrikJnqlzb/+582bNDdLgt95+R9diYrIP5cPduccBgAAADfADU7Gz8lT/iZLN2b2F+O79Lxf2i3/3s0kyjkS0+m0e1F+/Dd/EdVz375fftt1vZ6Tj286vF+v9Cau7zwVD9doS2e2Gfnl5n8pI7dFsz86dlEuXfqnaMF459KafOev/S2V+/+V3BLNNf3o4k+jGy7tjZhfc/Uz78mPvhaPYW7HOP+xRGX3u+WXOypprvf/AwAAsBPcmGR890F53Ndb/+DPDjfLNDbcINl8X6KcoznFD+65JH8W9wz/0WfldFwS8vWvNR/YE49CEt28aZmk1v2OG/xQn17G1aw7t0w8Hb/nUNW/5HxA9v7nxBCGx/6uObrJc8fejHrFb9stk8167w/IrWlf333uZXnOvvfwy5vekHnT7tb73O/sHAf8VTuGuf1/2THOO5P+9///2bGunpHD+/bJPj+dvOjXK3D1zOEoLk1BXTzZ3FaqtpfWuJyLcjKOTUVgiXia00mzVoeLJ3XF1WwHO6bDZ676dwSso91Q09b3oT28YT3j9z5+Sv70ft9da7kbI/1NjAn2fd8074t6kjdq3rh4/29FPcPpj/sbJk2i++Xe944PbFw375EHT90hv7r/Jp+Ue7fdJLd/+g55+Mmxtl7xmw7eLpPmvU02WTf/Pqr5brHvs78zdvPu1rCJlv3dtyf+HDfvN/+vxE2e7/f/szOZg+pDp2Xt4HE5f/68HD8ocvboYdHRRu+Th05Hd1yoYU+cvn+321bnzx8Xs7nM9lKQBGmNy7t65sty1t6U7ZfV8O1GND0md/nVIbPtxtGzB+W4orh2PXAqsZ2idl7M3njPR3a514Nl242jZ2Xs0PMurucPmW/Y2aPhn8i3xfW8RGF1vz1sH9oQA88NbdhzWwxZeIM9ff+3/dxguHDhgp/rDttjYhPWg8fPy2P2iGPPxn0jcOqBkBtq23P3Zdlz/B65cNSfbLgANbkqZw4/JKfXxuTQ86ck6M3VJo7LJkQaEjy7Lx4VOX7cNJ5H5ayKfTGKSUcsCTYJeui0mC9U4O3fdvy2Gzskz596QIKOsuN4teF4FqgoDrsbRu16r+Ia0Bs4Af3evGJ7jsdkT3xvwO49Snrv7pLHzpuGbKt7HlS5VT6kKW+4+pJcsLvlwbtV9LRGveKH5BOKcla13rziRi9bO/1Qq0Tg8BlzeqjIxe/LWfNj7J6PhJ2IW3fd7a6i2e118swZecpeCVX4Xdv1oVvdz9d+0t09kWQcGDBrV7jhdeBd/KpEx55PqCkPcMmPLZsyh9jjKnpcL8pXzUZSkfhs5uzRZtKqof746k9ecz/jsofztp5j7bQ8paFuz7kqZ75sU/GD8ikVPf+208WXcZy27YaJ7FOB9/YbUfK9Jhde6u1+RzKOdyF6UI99OE+3SlTQMtbsKsdA8jWFthfocSWX0+96LK5ptTXjZ+XovvDvXXC94moSnySbBLXXILveSSVF/rfGl5r8lUI1nRPKrjq5dnDfQ3JaDsnzzXtNFNz8fddjze+UO9m1bb3R3C+7hGQc6JPde9yhRprHGn+ZtttfelwPf9Ot7T0OveZzU3fJJ2xXVx96hm6sq/KSy3zsiYXtPT7qygNcb7Ky0oeoHQnfVuUAWjonLn7V9x7fraOO4+pLF0w8Y3LocdsOmhPE5w+5k6ez3w//rLDVOeFvTE2Wk3YJyTjQJ7s+co9rvOKDz8XvR5cwlbTVCtmbG21Sp+Xmxoi9QalV5hAnsaGP9rBLHjjVOqDGo8S4EUgU3Di32fYKPmeNa5AvvOROluJkL/hRR5yL4pp3dTXVGzuTdF3ZjUrd5OCnun6TPqOpBKY/o6n0xk4bTcXxd6RHtIzM4UcM8Eux4EeJadtWLeGPfmNDs0PK+QU1+2GSrhFI4hEeIoq2V8d3LPSROWLx9tLQViS1txs62kJXfuOufno9ajNIxgNDMt47PUnGAQDAjkaZCgAAANAnJOMAAABAn5CMAwAAAH1CzXhgNNeMP3LbST83GN5++20/BwAA0B0k44HhBs7eWVtbk7ExHWP4JhFXWIgrLMQVFuIKi9a4KFMBAAAA+oRkHAAAAOgTknEAAACgT0jGgX6qz0tmaEiG/JSv+PUK1OczLqbMfN2vUaCSb26roaGMaAkt3lbRlBdFu6ETx6fj+1WX+Uy8rfykqOFQty+2tRmtSUW72BGbmra+D+08yTjQNxXJp2ZlvNyQRsNM5ZyUshoSvChZmJYFMSEpYrbXsVGp2W1lplpBZHZ63kQbuoqcWJxqxlXOlSSr66xQpmdF0mm/rEQubjfsVJzwa8NmE/FUYl9sNIoSfGQTxdZ2clNZcpKWqQPD/g2hMu1hdlUKNR9X1CCGf/yyHWTJuMrjPWnnScaBfqksSSldkCPx0WbiiBTSVblc88vBGpaZlYaszIR+sOk0IcWVGRNdZPjAlKSrlyX4zdUR18SkOYNaXVdwkhGpnLAnvAsy5ZcxqMxJ4ey4lBP7okb1+WOm3Z+S4HPx+rqsyriMNBvEEbMUvvryolST22diUnLVRVnucoNIMg70SX19VWR8JHHgGZYR05qtrmtJg5SrXTaN9qik/KIOdZk/VpL01AEdCVElL9nVxAmvIqVsby+jd51L7kqSbZYHmEnTFRrHnnBUJTen4IRjeEbm7FU0V0pkr4ZmZbWwIKH3wQzbg3BbJ0tKRnvQSUYyDgDvWZS0qjioWs0ayZTMjpeVXNWw22hVCgvaelqjK09x2YOrDkgpqK22J7eSbpUH2HKOUlbVfTQbroYGbqLoy9psuyEFWdDQbkwUfUzxSaGJrepf6yKScQB4jyr5KGlVUqrrDkDN5G70mDkAhZ/c1eenzTaaC76n7lqGZ+YkJ6sS/AW11KhJxRNlDzIhUcWUliuFyq46mRYib5LVpUl/8jR3WVJKrtLYk4y4PYxr/Ee7fAmUZBzoE3c5rK02ty5R5Yry7CFwlfyQZKWs5qa5TlqSu9rlqq3laOvdcqUd6kofNEnud1F7qEZ9WRarOZlTcnYY1b4n73myPcpVWex2cXWv2asZbSeJ3UEyDvSLuzFkVk7EuUHlhEkYcjKpM8dTwSXiqwWpaUrEbYlKMkHt0cGn29p7t2pSSPsRSELfdmZ7JYeQU3ND4PABmUonkjmXvGoYdSRibySu5ibDHx3G21hbXZGlkrbOJDtiTEnShSNd324k40DfTEjRDWfoa9PccEoKhvKyl2P9OMimHZPqbMrNB98hWZ+XYyYeE5CkXG9rNAUflx3FZzXuQda0HyplTuLH/XfKTm4oQBUjkAzLzIIrgI9iSy3KVG1FR5mRazvSUtB0J/GG2mp7A2ct/NK9tmd/RDH14h6aoWKx2Jj+8C/6RQy6o2/YbECnp+//tp8bDGtrazI2NuaX9CCusBBXWIgrLMQVFq1x0TMOAAAA9AnJOAAAANAnJOMAAABAn1AzHhjNNeOP3HbSzwEAAOwMLhnP5XJ+UQ9uXgjLIMbF3zosxBUW4goLcYWFuMJCmQoAAADQJyTjAAAAQJ+QjAMAAAB9QjIO9Fl9PuOe9pV8xHXYWk/gbE7BP6bSs4+Ob8aVERWbrC2m1qRif+yITc93rNVuRFNeNHzDNMbkaGw3EuLtpqWZ78f2CjcZb3tkqZadoCL5REzRFFaD1GxMOzdIx0FRzZf2ukRJ67QsSFnfPdSSKzek0fBT8M9INmyb4x4V72Mqj8vs9LzZioGbKLa2k5vKkpO0TB0I/Tnkpj1Nbq+afdT6tIpEyLaz7jH4zW1WlPC/YRU5kYjJPWpdxYHC7IfHRptxRbuhgnYjZtrF6VmRdNovh65P7XygybjZuVOzUs2V/ZdWpJRVdLbp44qmcBrZSn5IUrNVv5Rgd+6lSR+PPdDb7aWo1+N9G5aZlYaszISe9OwM9eVFqaanpJmjTkxKrrooy2qOqpH6/DEpJeMMVX1dVmVcRuI4hkfMkgYmaZ0dl/LKjGlBNJmQYiKmiUlzpFhdV5C0tsc1fGBK0tXLUvPLoaucmJXx8oJM+eXQ9audDzIZdwcL8zM3GaWp7ksrVVnUdlQMSkWWSmkplAuy4QR5eEZWmj2jKRnVcgaNbZWy8ZUQHSfKwyMmlWs7iNp9uSqXtRxVHZvoVSU3pyDRM+3OnO1ddVcX7VWorKwWFiT4c193kmHjal1pVFMG1mS217GSpKcOKDvhMGqXTbI3aloPBSp5ya4W5IiCC5+xfrXzQSbjtcu29zUto/HenBrdmACix8zZf2NFZq7VwtSXZdFuvtykgsuq2FzU4x9f3XGXZVMKroRMFKNL580kKCWbXQgKWmVJSmk9B9eJoi93sNtKCrKg4SqUTebMEa95Gd1ebSxldZT+NcsZzfYaLyu8ahidZKg42XWxrEphQdkVmj6186pu4Kxq6aIyDWvc46HlhiNbwuJisuVFkpOyhhpivCvDM3Nmi6/KuoJd2SZ38UlGXFvd7BQInrbeyOgenKVJv73mLktKw1Ua1/mUKL+RCYkqOlR8wZrfr9roMXPM0FXOWMlHJxk6bqGZNrHMhX+laRP9aOdVJePp4I+Ktne5tRPYWvjqbEpFj0dr57Y7tj3r1HdHOXYY24vclhQFzl21ysmckqNrVPue6OV3PV5ayhmTJ7d1WV/1s4poOom3bIdUVso6bmY3XIVCs+Mw6j12pYnaSqZ61M4HmYynXNFxoobHXbYTGVdzVIxEcWozIUcK0fajxl+pSr7tio6aGwLb2JE6SpIuHFFTbmVvxKoqKh/bWPtp72tRcJwYPiBT6UT76U6iFIx+Y0tUkomcopNdl4ivFqSm6Ipwe+9xTexh3Y2gpeqqd+/a+SCTcXc3svkZX5ar2BbWnEP7+znD1ZbE1GXZFVeHfxncDsO1WVzhD512vexNZVH5jvm+u6sgdj74joWJSRn3sdjJDcGmYeSHtuFU7c2ANT01rSa2Y/YGbE13Ym2o/Yy2Wfi5wrDMLLgbMaK4UosyVVsJv1xg4ogUVlslmkNueDkFQza675b5WZ2VVHNfZHjfgdWvdr5YLJoTmwCVcw3z8f2UbhRqfr23urrq58JSK6QDjavcyDU/d2tK+wDKueT6MOIKdR+6FuIKC3GFhbjCQlxh0RpXuDXjiRs9GnYUDyUdVMMzK4HG1V7vHk/xGWX7JS092wsAAOB6qLqBEwAAAAgJyTgAAADQJ0O2ZjyTyfhFALGxsTE/BwAABsHa2pqf08Ml47mcfZy8LnZjaUymiAsAAEAPylQAAACAPiEZBwAAAPqEZBwAAADok6CTcftkR/eUJDWPsqpIvvnkp3jKm7Xh2HKb2EcdJ+Li6WMAAAABJ+OV/JCkZu1j1RXKlRMPyAnnccBbbhP7eNmlSR9PWeztwqVsWCcZAAAA3RBoMl6RpVJaCuWCpP0a9Ns222R4RlaK8SlFSkbdG1Zlve5WAAAA7FiBJuP20esrMpPyixgA73WbjMsIj8QHAAA7HDdwDqJStllbnZlX1n1cOSG2kiVdOBJM+Q0AAEC3kIwPFNu7HNeKN6ScE6nOpvTc7Ghrx7Mlm4nLwgzd4gAAACTjAywVFVcrUZF8alaqkpPyyoyQigMAAJCMD5ZKPlGWUpflRTsySVpGg6+Nr8t8Jislm4gHNDoMAABAtwWajPvxuF1Pq+FrrIOvr54oyoJM+3rxlMxW01KorUgYFR3bbBNfJ25WStbFprQeHgAA4D0aKhaLjVzOjvysy9ramoyNjfklPYgLAABAD8pUAAAAgD4hGQcAAAD6xJWpZDIZvwggNl7f7ecAAAC6g5rxwBBX7wx98//6OQAAgO6gTAUAAADoE5JxAAAAoE9IxgEAAIA+CTcZr+SbD4+xU77i1wfNPzinbcqbteGoz2eiz73JBtnuNQAAgJ0ozGS8Pi+ZpUlpNBpmKou9/bSUDStp3Vau7GOzUziPj6/khyQVPWpzg+1eAwAA2KnCTMaHZ2SlGKeoKRlN25+rss7T1fuoIkultBTKBXGbo812rwEAAOxcimrGx2Vk2M+iDyak2FiRmZRfbLPdawAAADtX+Ml45YTY6od04Ugw5RzXVMo2a8Yz83T3AwAAaBV2Mm5rx7Mlm4nLwoyGbnHbgxzXijeknBOpzqaU3JwKAACATgEn4xXJp2alKjkpr8yIxgqVVFQMDwDQ6K1nRCZvMtPHzLxfB2DHCTQZr8t8Jislm4gHNNrINVXyibKUuiwv2tFH0jJKrTUA6EdyDuxIYSbjvk5cTDqe9bXVKuqrJ4qyINM+npSJMS2F2oqEUYHjx0h3VysMX/cebZPtXgMAvC9/aRN3M/3lOb8CQIjCTMZN0toah7s1rSioGx+eWUnEFEoibrXXu8dTtE22ew0A4Nz8qMjSO2b6rpn36wCoF/YNnAAAbOp/i/y+7zl+xa+yXpmN1v3+M36F8YqZj99rS0ReMf826Vv+38RTW0+0mY9/X/y7J83P92OzMpVNP5uPzeTsznd/K3qdHnIgSCTjAICdyybAf/S4yKt+Wf7eLP+5nzdsKchfPecXPJv8JpN561XzO/6o433X61qfDYAKQ8VisZHJZPwigNh4fbefAxAe23v84SiR/cN3RMysY3uvbdJ821Mi//XRxPLDZrlgEuBzIoVlP2+S4UdNMiz/TuQZXzpiX3/UJOPNdbZn3C4bH/uayO/sj+bfjc7fLx3Lb23z2Sx7omD/2Xv9/wIYKC4Zz+VyflGPtbU1GRsb80t6EFfvDH3z//o5AOF5l8m4KzPxybRlE99Zk+zaxDt+71bc743/fSJhf7eulYwnE30r+dksknFABcpUAAA7mElil14R+W2T6FqvmuT70UEZWnCQPxuAG4VkHACg2w/ORT9tmccLHT3dtvf7L38s8huFKPG9za78e5H/+b9FbnYLhu2ptqOcdExxb3u3bPfZAKhBMg4AUOjfiNxtkmgrHm3E1no3b4ZMiF+f9GUt1i7z7+1Qgx+zCyYBftS+npxMotwLW30260Md8TGaChCkcJPxSt4/HCea8hW/Pmj+4ThtU96sDUd9PhN97s4NUp+XTCIuHdsLwED7jWdNMu0TVsvWXD/zNb/gffh3O95j5v/wlVav9++Y+eTrvXStz9YZ34d+2c8ACEmYN3DaxO7EiKwU7YPwbQK78dH4Yd7o6GPJlaXhYttokOOq5IckW/ILbTG0xxW9r/3potzACQAAdqIwe8aHZ3wibqVkNO1n0UcVWbIJdrkgnZujPn/MnCyZ/Hwy2mYTk/bkryqLyzwOH4BGdhSUZEnLZlOPylwADLzwa8bry7JYNT9zk81ecfSDfeT9isyk/GJC7bLdQGkZjV9LjW5I2AEAAHaiYJNxW+rg6o9Ts1K1JSpblHUEqZRt1lZn5vX2Hlcv1/wcAGhihyTcZPSVtsk/uAfAjhdsMj5RbEijYaeyScVLkh3KSPh5q+1djuNqSDlnEtbZlNqbHdPNrnIAAICdKfwyFZPAHinYogd9NcgpJcXwURxVaXaE1y6bJZHxEX/3JgAAwA4VZDJuh89rlW/UZdkVjadl6kDgyV0lv2lcoXcgDx+YcjXiq+tRbJUldzun+Ps5AQAAdqwgk/HhmRWZu5zyddUpma22D5MXrImiLMh0oHH5MdJdDb/h697dyYUd/aaccyU3dl00rGFrGEoAAICdKsxxxt+FMMcZvzbi6h3GGQcAAN2moGYcAAAACBPJOAAAANAnrkwlk8n4RQCxt99+288BAAB0BzXjgSGu3rlw4YKfAwAA6A7KVAAAAIA+IRkHAAAA+oRkHAAAAOiTwJNx/6AZO+Urfl3IEvE0p7xZq0Al3xaXis11I1w9I4f37ZN9fjp50a9X4OqZw1FcmoK6eLK5rVRtL61xORflZBybisAS8TSnk2atDhdP6oqr2Q52TIfPXPXvCFhHu6Gmre9Dexh0Ml6fPyaldNo9al2VXFkajYafFDypsj4vmWxJ0oWaiacmBbPBSlklJxnXxRxUHzotawePy/nz5+X4QZGzRw+LjjZ6nzx0es0vKWFPnL5/t9tW588fF7O5zPZSkARpjcu7eubLcnZsTNTd9u7bjWh6TO7yq0Nm242jZw/KcUVx7XrgVGI7Re28mL3xno/scq8Hy7YbR8/K2KHnXVzPHzLfsLNHwz+Rb4vreYnC6n57GHAyXpETs1XJzc3JuF+DwVRfXpSqOWWaOmCf6z8sB6bs6VNJlnZ4Nu6SBPPz4N3R4eauu20rvSYXXgo9G78o3z87JoeOH9KVAO16QE49FqcGu2WPC+41+Unom2vTuLS4KF81J4UHP/UpudWvwYAySdCXTYM4dugTKk4sNmfbRvNj7B4JPReXN6+Yo5U+V1+6YOKKT5Z2yUfusQ3iWfl+l7PxYJPxqFe8IEeC7zbeeYZHotOn1fW6+7lTvXnFNmVjsmd3tCy79yhJXu+Sx86fkgfiuFS7VT4U+kE16epLcsHulgfvVpEQRb3ih+QTerM7PXxyt3b6oVaJwOEzouBCYcvF77sOmLF7PmLSvMDddbe7ima318kzZ+QpeyVU4Xdt14ei0/jXutzrEmgyHvWKp6cOiO1rVaeUbdZWZ+bDT1ij5Lsqi8s7O/l+t9auvOnnMLAuflWiY4+OXrxmna4tmzKH2OPNnvKQRb3iKhKfzZw92kxaNdQfX/3Ja+5nXPZw3tZzrJ2WpzTU7TlX5Yzt+jffr089oGGPtJ0uvozjtG03TGSfeiD471qUfPf+CnWQybjrFZeczM1oS8UnpNisFW9IOWdS2NlU+Dc7ThSbsbiTjGzJrR4fUXkqdd3Gml3lGEi+ptD2Aj2u4qBqDquPxTWttmb8rBzdF/69C1EZmJbEJ8kmQe01yK53UkmR/63xpSZ/pVBN54Syq06uHdz3kJyWQ/J8814TBTd/3/VY8zvlTnZtW28098suCTAZr8vyYtX8LEnW9R5nzZxdzMpQZt68qkdqVM+tqRPF1klGzd7BKWkZTUWv7VS7XXHumjSPNf4ybbe/9Lge/qZb23t8KvxeoI3ukk/Yrq4+9AzdWFflJZf52BML23t81JUHuN5kZaUPUTsSvq3KAbR0Tlz8qu899vcIhS6urT70uG0HzQni89E9Qme7XVzdA63OCX9jarKctEsCTMaHZWalldg1GmVxD/O3I5CszIRdtlLJJ8pS4pMObUlrVGIkuTlRd2HjPdr1kXtc4xUffC66O3sOipK2WqGrcuawTersaA86Rq+w7NBrrTKHOIkNfbSHXfLAqdYBNR4lxo1AEvpJ1MWTm26v4HPWuAb5wkvuZKn9RrrQxTduaqup3tiZpOvKblTqJgc/Jd2+wDZULBYbuZxLZwNlx+bOSskm48XW3Zxra+ZrPBZej0F9PiMpm6w6aSnUVtqS1iDjskMbpmYljsqdOCW2lTWIcV24cMHPdZEdz9RfBrMH1EPPn+r6l7777DjIvicywdaCngo5uLZt1RJ8XEY0pJxfULMfJvl90ibjCurh7QlUa+hQRdur4zt28Ph50XD7Qry9NLQVSe3tho620JXfuKufXo/aDAXJ+OZCTcavhbh6pyfJOAAA2NGCHdoQAAAACB3JOAAAANAnrkwlk8n4RQCxt99+288BAAB0BzXjgSGu3uFvHRbiCgtxhYW4wkJcYaFMBQAAAOgTknEAAACgT0jGAQAAgD4JNBm3D/qxj8JPTnmzNnThx2UfWuQ+d771qZvrOqbW00Z3tvjvo+fvUZf5TMf2TuwPQavkE3FlRMUma4upNanYHzti09TmtLerGo5/OmNyNLYbCfF209LM92N7hd0zbp/k2HwsflHan+kYsEDjquSHEk8PbRmeWUnE05Cyu184LVMHdvjz8H3SOi0L/m+iS67c2uadT1wNkn2SbHZVCjUfU3lcZqfnzVYM3ESxtZ3cVJaciu9nRfLJ7VUriNlgKhIhm/ykFqek1txmGo5/FTmRiKmcK0lWRXZn9sNjo824ot1QQbsRM+3i9Kw5oqf9cuj61M5TpoIbpCJLpbQUygVzGN+OfZ/5kZ6SHZ+Ly7DMrDRkZWbH/yGCUF9elGpyv52YlFx1UZbVHFUj9fljUtLw/ayvy6qMy0gcx/CIWdLAJK2z41JemTEtiCYTUkzENDGZE1ldV5C0tsc1fGBK0tXLUvPLoaucmJXx8oJM+eXQ9audJxnHDWIanMaKzKT84lYqSxLl4geUHUjQqZTVdVl2eMSkcm0H0ZSMpqtyWctR1bGJXlVycwoSveEZmbO9q67cwV6FyspqYUGCP/d1Jxk2rvj7ZSY19QExs72OlXQeJ2qXTbI3aloPBSp5ya4W5IiasoT+tfNhJ+OlbLMxUlV/rDUu38CK5GSO3mDFoh7/6PK5vyybUlD/OVGMLp377+bQUEo2qcoKmz1ZTus5uE4UfbmD3VZSkAUN7Y5N5iTduoxuy4rMMUNHRUdcq2u213hZ4VXD6Bio4mTXxbIqhQVlV2j61M4HmozbXtjWwd7W21ZnUwoaI61xefVlWbQ7dW7SRIqdYnhmzpx+rcq6gvNKm9zF38+4tnpURReXpa03MrohfmnSb6+5y5LScJUmNWr2ukT5jWlNo4oOFV+w5verNnrMJEKKbuI0KvnoJEPHLTTTJpa58K80baIf7byKMpXUqJY7B9ppi8vWlkW5OKk4FHAlV8mkKHDuZFnPVauo9j3Ry+96vKqyqKLIP3lyW5f1VT+riKaTeMsOcJCVso6b2Y3aZXM0b17Fj3qPXWmitpKpHrXzYSbjlXyifKMuy667VUEPlda4nPjGTV31ZdhE234cJ0Xabti1I3WUzO58RM1VHneyrOiq1cbaz6gNGg/97Gn4gEylEycV7iRKweg3tkQlmcgpOtl1ifhqQWpKEnGrvfe4JoW0H0FLUYy2zehZO18sFs3fMjy1QrphPr6f0o1Czb/gra6u+rmwhBtXuZFrfu7WlPYBxHHFy50GMa7uf6ZawzRgG/5mpkHrqu7H1bEvpAsm0u7rely1QsMcb5pxbbUv32g9+W642Da2N93Ui7jKucR+2KNt1rvtFcfVm+3W/bg620MlcXW0G/EUfjufFG27bsdk9Xp79aqdH7LJeC5nDp3KrK2tydjYmF/Sg7h6h791WIgrLMQVFuIKC3GFhaENAQAAgD4hGQcAAAD6xJWpZDIZvwgAAACgV6gZDwxx9Q5/67AQV1iIKyzEFRbiCgtlKgAAAECfkIwDAAAAfUIyDgAAAPRJ0Mm4fapV9ChWO+Ul/IewViTfjCfMuOrzmehzdz4S1z5dLRmXtkfmXof4b5Z8amXw2rZ3RrSE1ty/3aShzWkXx6fj61mX+Uy8rfykqN1Rty92HiP8pKJd7IhNTVuvrJ3f8lhcn5dMM87utI/BJuPu8bKlnJSbj2MtqnmMs+TKicfMhhOX3SapWfsI/w52R3aPlK25mGr2ubmlrJID/vWIkoVpWZCyqnuozUnlsVGp+X24VhCZnZ430YauIicWp5pxlXMlyWraic33dHpWJG2+npq4R3T7bablUd02aUgl9kUVx7+JYms7uaksOVHwmH/bHmZXpVDzcUUNYvgdFO64noirPB5wO7/dsdhsv9SsjMftiHlDKXvjTzzCTMbNTnCsZA4ahSN6EvDgVWSplJZCuWCazw61y7JJig4ZlpmVhqzMhH6w6TQhxZUZE11k+MCUpKuXpeaXw9Ue18SkabVX1xWcZEQqJ+wBZ0Gm/DIGlTkpnB2XcmJf1Kg+f0xK6SkJPhevr8uqjMtIs0EcMUvhqy8vSjW5fSYmJVddlOUgG8RtjsWVJbMfFuRInGxOHJFCuiqXb/ABLcxk3Cd31dlU87LBUEZDz1vITKLSWJGZlF9Msl9S88Nur/y87X0zWy+5c0M3+31Nj8pmu0a46jJ/rCTpqQM6EqJKXrKrOr+TpWx8eVlJuZRL7kqSjY99dlJ3mdGecFQlN6fghGN4RubsVTRXSmR7YLOyWliQ0PtghkfMKUVbJ0tKRruQpPZbfX1VZHwksR8Oiw19df3GNiZBJuPuj2PEZQ/2soHJ9GRaRUtrlLLNRlZHbZlN1GvmbNKENjvrTqRUNLJ4F6KkVc32btZIpmR2vKzkqobdRqtSWND2nYx6u6KSB18ulVJQW+06o9Kt8gBbzqGt7K+zNzJwE0Vf1mbbDSnIgoZ2Y6LoY4pPCk1sXAJ/34K+gXM8vu6TGnWlEdXgT8ls0to6eETnGKnwG1l380PUCNVcHWDUW0XNuH6VfJS0KinVdQegZnI3eswcgMJP7urz02YbzQXfU3ctwzNzpu1ZlRvcodV77niXKHswx42oYkpJZ5S2q06mhbADMyxN+mP73GVJKblKY08y4vYwrvEf1XUJtGeCTMbd5RGjs/FJK9sLUqM67qRytWW2J8f1vJkTjlpUV15aIhvXzN1kLWU1N8110pLc1S5XE1fjot4tV9rB2fIAS+53dfEXi3WoL8tiNSdzSs4Oo9r3ZM2x7VGuymKYxdVbs1cz2k4SdXD5Ztu9QdH3rdkZfIOE2TMe1yAvLrs/UJzsBX/XdSWfKEupy/Kiveaj5UwzUUvma/61nTyhxSXiqwWpaUrEbYlKMkFVcvBp792KysncCCShb7u29jROihTcEDh8QKbSiWTOJa8aRh2J2BuJq7lJ0dJybKyttoMd3Phkrr/siDF2xDSFg2q4G1Nn5UTc9FdOyKw5WZy80YEWi0XTBgeonGuYj9+czMGjzerqqp8LS62QTsSVbhRq/gVvcOMqN8wJUuKzR1PaB1DObb4+Nohxdf8z1Rom8Wn7u9ipc1++0boeV63QMPmcvrg2bK+N389u6O13I4qx29vK6n5cHW1SumCi676ebK+275ii/dDF1Zt4Yr2I61rHv27oelwd7XwvYrK6E9c1jsVt+WZ39s8hm4zncrafWZe1tTUZGxvzS3oQV+/wtw4LcYWFuMJCXGEhrrAEfQMnAAAAEDKScQAAAKBPXJlKJpPxiwBiv7Dr5/wcAABAd1AzHhji6p2fvKPsUWIAAGDgUKYCAAAA9AnJOAAAANAnJOMAAABAn5CMA8A1vP7Mg/JLHxyRX/rci36N99qC3GfX++nxc359aM79QTOGoOPo1BHXhu0XoOa+2DHd98wV/47wbPn9MrZ7bdBpbTe2jEtLO9KHdiPIZLw+n5GhoaENU/LRx2GrSD6OK/n47QA0t82mnzvcuG40rY2ZxoPq+c+NyEefuOSXkl6Uxz/8J/Lyw1+UN362LgsPi3xl6kH50mv+5VDYxGDqBbnjyXMmjnPyhTttHH8g5/3LwWqLa11efHKvyHOPBH+iccujL7h44snudyJ75Td+fY97PTRbf7+2f23QaW03tozLft/K+/1++UX5pFkVZDvSp3YjyGR8eGZFGo1Gcyq7wWDSMnVg2L0euvr8MSml0yaisFTyQ5KarfqljUKN60bT2pjpPKi+KN99bq98YfHzcodfE3v9mdPyFfPzk9mPuuV92QfNfy/Jt74dVg/l698uy8vNZG6P/Np95uAjL8h3A09apV43cWln90/z486s/Nqt0ZqwbP392v61Qae13dhmm9w6Ld94OorJtiMpc1Ivsi6vhdY50ad2Q0GZSkWWSuZHekp05OIVOWES2tzcnIz7NWGw2yEthXJhi2Q71LhuNK2NmdaD6kflqZ+9IJ/ZpG15bd2eXOyVVPza8HCA8W10y/CI+/kP9XDLHpz9+90J7ctP7JfHn1mQz9mTwTs/L/n90csqnDvnErs77rtHbonWBGbr79f2rw06re3Ge90mI3JraCeJfWo3wk/GK0sS5eIHJMjvbIeo97ggRyb8imBMSLGxIjMpv9gh3LhuNK2NmdaD6nv38npYSWyUfIfXo39tdr/zZTdP/Inr7frkkelAk9bNXJEvnXjB/HxQfvfRMEtU0BJau7Gtc1+UL/zQnCQ++Yjs86vC0Z92I/BkvC7zx2wqnpO5GQ1H+qj3WMuJRYvWuLoo6MZsZ7tjJLDEaP8fu7pV2xPkavqnbIIn8ivDgSd4tuzrg/vlC/J5ebFZ9qXo5tTXLsi3TBshD++njVAguHZjK77m2vYmPx3iSWKf2o2wk/H6sizaEuXcpGjocHW9x2pOLFq0xtU1oTdmO8StI7a2+pLU4vvGfa1hiEnsvqdbNwS6G5aSl9EDFdfCf6Foe7U+Kk+9EpVJfaUc1g3EWzn/577XztceIwya2o2N/M2p8qAsfDfMq1D9ajeCTsYrJ2YlysVVpOKy7M4sSpJ1I45kXfmNlLIylJk3r4ZKa1zdEn5jtlPc8utZ10jHtdXny1HJwMeCrkl+UYq2RvLhQ/KZIG8I7LQx6dHRA2nvwzA/tNXA7wA62w3rinzpY4/IV+yx62d/HPjVmt63GwEn4/GNm1rqkIdlZqU1QkyjURY3SEyuLI2VmYDLO7TG1Q2aGjMtzMmRLd1wJ0jGc4+4Ug43prO94XbxwWZ5x7S9SfWVALebuywbDaX5Sx80+58dcq15I3G47BCA0bBxPjY/XNk3FFxtikfkCPfGzdg2369tXxt0WtuNbeLypZV2JKZp+x4/hbG9WvrVbgwVi8VGLufSo6DY8aztMHrpQk1WNil/WFtbk7GxMb8UIjsmd1ZKNmktts42Bjcu/3n9Umzj9gknrp+8U/NzN5JtzGzC3c592Ye/2KzXTQojgdgmrkevbPOahl5KAADev2CT8WsJPxnfHHH1TneScQAAgJbwhzYEAAAAAkUyDgAAAPSJK1PJZDJ+EUDsF3b9nJ8DAADoDmrGA0NcvUPNOAAA6DbKVAAAAIA+IRkHAAAA+oRkHAAAAOgTknEAuIbXn3kwehrb5170a1q2e23QbfnZ257KOSKPn/PrQ3PuD5oxBB1HJ2VxbbkfBh7njms3tOyXfYgj3GS8kpehoaHWlK/4FwLXEVdoYdkno27cHvapm62Yoilv1u5cO+7gE3Bc5z83Ih994pJfarfda4Nu68/+ojxuH3dtH4v/s3X/aOgH5Uuv+ZdDYU8o/KOs3/jZOfnCnTaOP5Dz/uVgKYtry/3Qxlne7/bBN372RfmkWRVSnDuu3Qh8ezX16fsVZjJen5dMtuQetd5oNKRWSIuUssElrhvYuJYmXUyNRlnsGDelbDhJayU/JKnZql/ahH0EvovNTkVpPQx/Z9lxB5+g43pRvvvcXvnC4uflDr+mZbvXBt3Wn/31Z07LV8zPT2Y/6pb3ZR80/70k3/r2Fbccite/XZaXZa/8xq/vMUt75Nfu22t+viDfDbW3ztMV1zbfoVun5RtPR/ugjTNlkiKRdXktiJPCnddubL69wtOv71eYyXjtsmyT8oVreEZWinGKmpJRc44RjoosldJSKBckqI/dc1obM60H1Y/KUz97QT4z7BfbbPfaoNv6s7+2bk+o9koqfm14OMCkYaNbhkfcz3+oh3VScS1hx/Vev0Mjcuutfnag7bx2o81rF+RbPzQ/H94v+6I1werV9yvMZHxi0vUaV2dTkp+fl2nbG5suyBFNXa31ZVm0Zxy5yUB6kCek2FiRmZRfxBa0NmZaD6qIvbweVrIXHUTD69G/Fq1xbevcF+ULpj2848lHgk/uNLNXR10poi1zkwdlodkJE45+fb8CrRm3iV9NXHXK7KzrJc/NzUiQJ5odbKmHq6lO2bhyUm72lCtQyjZrxjPzdb8SSRoas21xUA3WHSP2sm1A9v+xq3d/+Yn90Xdq6gW3+leGA4ujk9a4tuJreOXOz8vTjyqNUYl9T9tSxLgc8QWZ/mCA95r06fsVbs34UEpmpSC1Zm11eDc7bmaiGNdU27hKkh3KSPh5qz15iuNqSNlsMHdVYyffwbkFFY3ZVjioBuHWEVsjeUlqcbtTr5sTwzCTvdb3aV1efNLGlSi/CZjWuDbyNxPbjonvTsstfi0G3Ucl7/bLMK/g9OP7FWQyXl9elKqkpbBge8NNoleL6pRLS5qyuwk5Yrv+TaSLy7p6kVNhFcP3SdiN2UYcVENxy69nXY14XCN5vmx7hh6Uj+13i4F6UYr25uKHD8lnVJVHaY3LuiJf+tgj8hXbZvzsj7mSNuDsSFr3PRMfq67I//hGdO9JdCNkqHr3/Qq0TMWqyuWan/U3dKZHwy5YtsMCtso36rLsisbTMnUg8C6PSn7TuALfXDeczsbMCvmgak4immVDxnOPuEuX0Xba7rVBt81ntzfcLj7YvEw7bW/MfSXAZMheibExusnsf3aoRg1lX6ri2mY/9CVtdiSL6Wa8Cr5fStuNWx59QX533Zd2fHC/2Xa23XghvJPEPn2/horFYiOXs4UeYbG11dmSXzDsMIcrM62kdW1tTcbGxvxSONrjSkuhtiKJsAY4LjuWeFYSm8SJt4s90WgNexhGXD95Jz7bu5FsY2YT03Z2TNNvPLrH1YxPP+dXmkQ8nMZsm7iGv9isu0uKYwYAYCcLNhm/llCT8Wshrt7pTjIOAADQEnCZCgAAABA2knEAAACgT1yZSiaT8YsAYr+w6+f8HAAAQHdQMx4Y4uod/tZhIa6wEFdYiCssxBUWylQAAACAPiEZBwAAAPqEZBwAAADoE5JxAAAAoE/CTcYreRkaGmpO+YpfH7rA47JP2nSfvfODa91eAAAA1yHMZLw+L5lsyT1qvdGoSSEtUsrmJfj8zsa1NGliapipLHaMm5Diso/ybz3yPiHwuAAAALolyGS8vrwoVUnL1IFhszQsB6ZMNi4lWQo9uxuekZXihF9IyagNS1Zlve5WDLiKLJXSUigXzJbpsGlcAAAAUFEzPjwy7n6uhpG1vkfjMmLPOQbehBQbKzKT8otbqS/Lou08z02afwEAALCzBZmMR8l3VRaXNSbfXuWE2IqPdOGIiqTVlrC4evHUrNlyOSk3e8oBAAB2rjB7xieKUs6ZdHw2FSV42ZJbPR5GF/K1+Zp4k4nLwoyOmCaKtl48rhkvSXYoI/OKz6UAAADejWDLVFrJXUNq9g5OScvotUokglCRfNx7vDIjSk4vEibkiNteyq9sAAAAvAsKasYrcsLWc+TmJPxO5LrMZ7JSsol4o6imptoOd5hpdoPXZdkVjcc34AIAAOxcYSbjtoyjOWa1SV5zZWloqEH2deJ2ZJhsM76hRCI7yCqSt5/X9eobpWzzsw/PrMjcZV9SNJQyMaalUFtRcPIEAABwfcJMxu1Qeb5ExU1abgacKLZiSkwrQWStdjSVrT97sqyoYUddIREHAADQUKYCAAAAhIlkHAAAAOiToWKx2MhkMn4RAAAAQK+4ZDyXy/lFPdbW1mRsbMwv6UFcvcPfOizEFRbiCgtxhYW4wkKZCgAAANAnJOMAAABAn5CMAwAAAH1CMg4AAAD0Ccn4ALKPj3dPq8xX/BoAAABoRDI+YCr5IUlFz8QHAACAciTjA6UiS6W0FMoFSfs1AAAA0ItkfKBMSLGxIjMpvwgAAADVSMYBAACAPiEZBwAAAPqEZBwAAADoE5JxAAAAoE9IxgdKRfJ2fPHUrLjBDUtZN954Zr7uXgUAAIAuJOMDxY6m0pBGx7QyM+xfBwAAgCYk4wAAAECfkIwDAAAAfTJULBYbmUzGLwIAAADoFZeM53I5v6jH2tqajI2N+SU9iKt3+FuHhbjCQlxhIa6wEFdYKFMBAAAA+kLk/wOeGcUDbZ36tAAAAABJRU5ErkJggg==)"
      ],
      "metadata": {
        "id": "pLlYnWc4zKzK"
      }
    }
  ]
}