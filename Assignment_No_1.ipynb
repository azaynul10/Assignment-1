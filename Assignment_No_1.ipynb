{
  "nbformat": 4,
  "nbformat_minor": 0,
  "metadata": {
    "colab": {
      "provenance": [],
      "authorship_tag": "ABX9TyOxqp1a13wosvVutODhuuTg"
    },
    "kernelspec": {
      "name": "python3",
      "display_name": "Python 3"
    },
    "language_info": {
      "name": "python"
    }
  },
  "cells": [
    {
      "cell_type": "code",
      "execution_count": null,
      "metadata": {
        "colab": {
          "base_uri": "https://localhost:8080/"
        },
        "id": "g2ogCZirc9Ur",
        "outputId": "4c40d302-8e7d-474c-cf78-a6cab1d55a53"
      },
      "outputs": [
        {
          "output_type": "stream",
          "name": "stdout",
          "text": [
            "hello world\n"
          ]
        }
      ],
      "source": [
        "#Task1\n",
        "print(\"hello world\")"
      ]
    },
    {
      "cell_type": "code",
      "source": [
        "#Task2\n",
        "print(54+56)"
      ],
      "metadata": {
        "colab": {
          "base_uri": "https://localhost:8080/"
        },
        "id": "Ooa96izTdYOS",
        "outputId": "36940345-8e13-41ea-be1c-0f76dc222362"
      },
      "execution_count": null,
      "outputs": [
        {
          "output_type": "stream",
          "name": "stdout",
          "text": [
            "110\n"
          ]
        }
      ]
    },
    {
      "cell_type": "code",
      "source": [
        "#Task3\n",
        "season = \"Fall\"\n",
        "year = 2022\n",
        "print(season)\n",
        "print(year)"
      ],
      "metadata": {
        "colab": {
          "base_uri": "https://localhost:8080/"
        },
        "id": "_yGjlOGyd9RQ",
        "outputId": "a86ed444-59c2-4047-874c-527482fa22e9"
      },
      "execution_count": null,
      "outputs": [
        {
          "output_type": "stream",
          "name": "stdout",
          "text": [
            "Fall\n",
            "2022\n"
          ]
        }
      ]
    },
    {
      "cell_type": "code",
      "source": [
        "#Task4\n",
        "Name = input(\"Enter your name: \")\n",
        "print(f'Your name is {Name}')"
      ],
      "metadata": {
        "colab": {
          "base_uri": "https://localhost:8080/"
        },
        "id": "Cg2j7Rghezhg",
        "outputId": "4453ab39-37c1-4cf3-f1d8-f17804e05229"
      },
      "execution_count": null,
      "outputs": [
        {
          "output_type": "stream",
          "name": "stdout",
          "text": [
            "Enter your name: John\n",
            "Your name is John\n"
          ]
        }
      ]
    },
    {
      "cell_type": "code",
      "source": [
        "#Task5\n",
        "num1 = int(input(\"Enter a number: \"))\n",
        "num2 = int(input(\"Enter the number you want as exponent: \"))\n",
        "print(f'{num1}^{num2}:{num1**num2}')"
      ],
      "metadata": {
        "colab": {
          "base_uri": "https://localhost:8080/"
        },
        "id": "8LDUV7SYhsvv",
        "outputId": "b0a21637-2081-41a0-a112-cd51e816dd71"
      },
      "execution_count": null,
      "outputs": [
        {
          "output_type": "stream",
          "name": "stdout",
          "text": [
            "Enter a number: 10\n",
            "Enter the number you want as exponent: 3\n",
            "10^3:1000\n"
          ]
        }
      ]
    },
    {
      "cell_type": "code",
      "source": [
        "#Task6\n",
        "weight = int(input(\"Enter the weight of the goods: \"))\n",
        "print(weight-weight%4)"
      ],
      "metadata": {
        "colab": {
          "base_uri": "https://localhost:8080/"
        },
        "id": "hm6yvZhokZm0",
        "outputId": "ba2dd6a0-971f-46bc-f456-5bb81912f4e5"
      },
      "execution_count": null,
      "outputs": [
        {
          "output_type": "stream",
          "name": "stdout",
          "text": [
            "Enter the weight of the goods: 11\n",
            "8\n"
          ]
        }
      ]
    },
    {
      "cell_type": "code",
      "source": [
        "#Task7\n",
        "A=int(input(\"Enter a number: \"))\n",
        "B=int(input(\"Enter a number: \"))\n",
        "C=int(input(\"Enter a number: \"))\n",
        "D=float(input(\"Enter a number: \"))\n",
        "print(int((A**C)+(B*A)-(D/3)))\n"
      ],
      "metadata": {
        "colab": {
          "base_uri": "https://localhost:8080/"
        },
        "id": "6glObC21occ1",
        "outputId": "9f2ec1af-61c3-4554-b173-308452e99a8d"
      },
      "execution_count": null,
      "outputs": [
        {
          "output_type": "stream",
          "name": "stdout",
          "text": [
            "Enter a number: 88\n",
            "Enter a number: 22\n",
            "Enter a number: 1\n",
            "Enter a number: 3.7\n",
            "2022\n"
          ]
        }
      ]
    },
    {
      "cell_type": "code",
      "source": [
        "#Task8\n",
        "num_of_choclate = int(input(\"Enter the number of choclate: \"))\n",
        "friends = num_of_choclate//3\n",
        "rem_choclate = num_of_choclate - (friends*3)\n",
        "print(f'Each friend will receive {friends} chocolates')\n",
        "print(f'The number of remaining chocolates is {rem_choclate}')"
      ],
      "metadata": {
        "colab": {
          "base_uri": "https://localhost:8080/"
        },
        "id": "VaHyQxCMcphL",
        "outputId": "0c5655b6-8f60-40b5-c5ae-15b7b601e0b5"
      },
      "execution_count": null,
      "outputs": [
        {
          "output_type": "stream",
          "name": "stdout",
          "text": [
            "Enter the number of choclate: 50\n",
            "Each friend will receive 16 chocolates\n",
            "The number of remaining chocolates is 2\n"
          ]
        }
      ]
    },
    {
      "cell_type": "code",
      "source": [
        "#Task9\n",
        "M = input(\"Enter a number or a string: \")\n",
        "N = input(\"Enter another number or a string: \")\n",
        "print(N+M)"
      ],
      "metadata": {
        "id": "6jOSjrNydJaA"
      },
      "execution_count": null,
      "outputs": []
    },
    {
      "cell_type": "code",
      "source": [
        "#Task10\n",
        "sentence=input(\"Enter a sentence: \")\n",
        "print(sentence[0])"
      ],
      "metadata": {
        "colab": {
          "base_uri": "https://localhost:8080/"
        },
        "id": "FivMbxhLgifO",
        "outputId": "a5ecc84a-a1e9-4ba8-95c8-afe4280b7215"
      },
      "execution_count": null,
      "outputs": [
        {
          "output_type": "stream",
          "name": "stdout",
          "text": [
            "Enter a sentence: The quick brown fox jumps over the lazy dog\n",
            "T\n"
          ]
        }
      ]
    },
    {
      "cell_type": "code",
      "source": [
        "#Task11\n",
        "number = int(input(\"Enter a number: \"))\n",
        "if number%2==0:\n",
        "  print(\"True\")\n",
        "else:\n",
        "  print(\"False\")  "
      ],
      "metadata": {
        "colab": {
          "base_uri": "https://localhost:8080/"
        },
        "id": "Ums53OopdYDj",
        "outputId": "5254c95a-29ff-45a0-d0c2-33fd8857fb97"
      },
      "execution_count": null,
      "outputs": [
        {
          "output_type": "stream",
          "name": "stdout",
          "text": [
            "Enter a number: 2\n",
            "True\n"
          ]
        }
      ]
    }
  ]
}