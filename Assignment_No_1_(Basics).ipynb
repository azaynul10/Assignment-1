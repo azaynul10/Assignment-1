{
  "nbformat": 4,
  "nbformat_minor": 0,
  "metadata": {
    "colab": {
      "provenance": [],
      "toc_visible": true,
      "authorship_tag": "ABX9TyOucsY5CaxeDB/9Jcb1Z7jk",
      "include_colab_link": true
    },
    "kernelspec": {
      "name": "python3",
      "display_name": "Python 3"
    },
    "language_info": {
      "name": "python"
    }
  },
  "cells": [
    {
      "cell_type": "markdown",
      "metadata": {
        "id": "view-in-github",
        "colab_type": "text"
      },
      "source": [
        "<a href=\"https://colab.research.google.com/github/azaynul10/Assignment-1/blob/main/Assignment_No_1_(Basics).ipynb\" target=\"_parent\"><img src=\"https://colab.research.google.com/assets/colab-badge.svg\" alt=\"Open In Colab\"/></a>"
      ]
    },
    {
      "cell_type": "markdown",
      "source": [
        "#Task 1\n",
        "Write a Python program that prints \"hello world\" in a console.\n",
        "\n",
        "\n",
        "---\n",
        "Sample Input\n",
        "   \n",
        "\n",
        "---\n",
        "\n",
        "Sample Output\n",
        "\n",
        "\n",
        "hello world\n"
      ],
      "metadata": {
        "id": "pADZepMQVqKv"
      }
    },
    {
      "cell_type": "code",
      "execution_count": null,
      "metadata": {
        "colab": {
          "base_uri": "https://localhost:8080/"
        },
        "id": "g2ogCZirc9Ur",
        "outputId": "4c40d302-8e7d-474c-cf78-a6cab1d55a53"
      },
      "outputs": [
        {
          "output_type": "stream",
          "name": "stdout",
          "text": [
            "hello world\n"
          ]
        }
      ],
      "source": [
        "print(\"hello world\")"
      ]
    },
    {
      "cell_type": "markdown",
      "source": [
        "#Task 2\n",
        "Write a Python program that prints the summation of 54 and 56. The program must use Python operators and numbers but not use any variables.\n",
        "\n",
        "---\n",
        "\n",
        "Sample Input\n",
        "\n",
        "---\n",
        "\n",
        "Sample Output\n",
        "\n",
        "\n",
        "110\n",
        "\n"
      ],
      "metadata": {
        "id": "WU4nYNBvZLWG"
      }
    },
    {
      "cell_type": "code",
      "source": [
        "print(54+56)"
      ],
      "metadata": {
        "colab": {
          "base_uri": "https://localhost:8080/"
        },
        "id": "Ooa96izTdYOS",
        "outputId": "36940345-8e13-41ea-be1c-0f76dc222362"
      },
      "execution_count": null,
      "outputs": [
        {
          "output_type": "stream",
          "name": "stdout",
          "text": [
            "110\n"
          ]
        }
      ]
    },
    {
      "cell_type": "markdown",
      "source": [
        "#Task 3\n",
        "Write a Python program that assigns the values \"Fall\" and 2022 to variables `season` and `year` respectively. Then, print the values of both variables in separate lines.\n",
        "\n",
        "\n",
        "---\n",
        "Sample Input\n",
        "\n",
        "\n",
        "---\n",
        "\n",
        "\n",
        "Sample Output\n",
        "\n",
        "Fall\n",
        "\n",
        "2022\n"
      ],
      "metadata": {
        "id": "KWY6cuF6ULK1"
      }
    },
    {
      "cell_type": "code",
      "source": [
        "season = \"Fall\"\n",
        "year = 2022\n",
        "print(season)\n",
        "print(year)"
      ],
      "metadata": {
        "colab": {
          "base_uri": "https://localhost:8080/"
        },
        "id": "_yGjlOGyd9RQ",
        "outputId": "a86ed444-59c2-4047-874c-527482fa22e9"
      },
      "execution_count": null,
      "outputs": [
        {
          "output_type": "stream",
          "name": "stdout",
          "text": [
            "Fall\n",
            "2022\n"
          ]
        }
      ]
    },
    {
      "cell_type": "markdown",
      "source": [
        "#Task 4\n",
        "Write a Python program that reads the user's name and prints it back as shown in the example below.\n",
        "\n",
        "\n",
        "---\n",
        "\n",
        "\n",
        "Sample Input\n",
        "---\n",
        "John\n",
        "\n",
        "Albert\n",
        "\n",
        "\n",
        "\n",
        "---\n",
        "Sample Output\n",
        "\n",
        "Your name is John\n",
        "\n",
        "Your name is Albert"
      ],
      "metadata": {
        "id": "3qBE4Aq1VA9i"
      }
    },
    {
      "cell_type": "code",
      "source": [
        "Name = input(\"Enter your name: \")\n",
        "print(f'Your name is {Name}')"
      ],
      "metadata": {
        "colab": {
          "base_uri": "https://localhost:8080/"
        },
        "id": "Cg2j7Rghezhg",
        "outputId": "4453ab39-37c1-4cf3-f1d8-f17804e05229"
      },
      "execution_count": null,
      "outputs": [
        {
          "output_type": "stream",
          "name": "stdout",
          "text": [
            "Enter your name: John\n",
            "Your name is John\n"
          ]
        }
      ]
    },
    {
      "cell_type": "markdown",
      "source": [
        "#Task 5\n",
        "Write a Python program that reads two integers M and N respectively and finds the value of M^N (or MN) and prints the value as shown in the example.\n",
        "\n",
        "\n",
        "---\n",
        "Sample Input\n",
        "\n",
        "2\n",
        "\n",
        "3\n",
        "\n",
        "\n",
        "---\n",
        "\n",
        "\n",
        "10\n",
        "\n",
        "3\n",
        "\n",
        "\n",
        "---\n",
        "Sample Output\n",
        "\n",
        "2^3: 8\n",
        "\n",
        "\n",
        "---\n",
        "\n",
        "\n",
        "10^3: 1000\n",
        "\n",
        "\n"
      ],
      "metadata": {
        "id": "gD6MESuvVwY3"
      }
    },
    {
      "cell_type": "code",
      "source": [
        "num1 = int(input(\"Enter a number: \"))\n",
        "num2 = int(input(\"Enter the number you want as exponent: \"))\n",
        "print(f'{num1}^{num2}:{num1**num2}')"
      ],
      "metadata": {
        "colab": {
          "base_uri": "https://localhost:8080/"
        },
        "id": "8LDUV7SYhsvv",
        "outputId": "b0a21637-2081-41a0-a112-cd51e816dd71"
      },
      "execution_count": null,
      "outputs": [
        {
          "output_type": "stream",
          "name": "stdout",
          "text": [
            "Enter a number: 10\n",
            "Enter the number you want as exponent: 3\n",
            "10^3:1000\n"
          ]
        }
      ]
    },
    {
      "cell_type": "markdown",
      "source": [
        "#Task 6\n",
        "\n",
        "A sailor has a boat known as Téssares Boat, which has four corners. The boat is capable of carrying goods of any weight as long as there is equal distribution of loads on each corner of the boat - the center area has been occupied by the engine. The sailor needs your help to know the maximum amount of weight he can carry in each shipment.\n",
        "\n",
        "Write a Python program that reads the total weight of the shipment and prints the maximum load (or weight) the boat can take from the given shipment. We can assume that the weight of each good is exactly 1 unit, therefore, the weight of 5 units means there are 5 (loose) items in the shipment.\n",
        "\n",
        "\n",
        "---\n",
        "\n",
        "Sample Input\n",
        "\n",
        "9\n",
        "\n",
        "\n",
        "---\n",
        "\n",
        "\n",
        "11\n",
        "\n",
        "\n",
        "---\n",
        "\n",
        "\n",
        "23\n",
        "\n",
        "\n",
        "---\n",
        "Sample Output\n",
        "\n",
        "8\n",
        "\n",
        "\n",
        "---\n",
        "\n",
        "\n",
        "8\n",
        "\n",
        "\n",
        "---\n",
        "\n",
        "\n",
        "20\n",
        "\n",
        "\n",
        "\n"
      ],
      "metadata": {
        "id": "NKwpunQuW_j-"
      }
    },
    {
      "cell_type": "code",
      "source": [
        "weight = int(input(\"Enter the weight of the goods: \"))\n",
        "print(weight-weight%4)"
      ],
      "metadata": {
        "colab": {
          "base_uri": "https://localhost:8080/"
        },
        "id": "hm6yvZhokZm0",
        "outputId": "ba2dd6a0-971f-46bc-f456-5bb81912f4e5"
      },
      "execution_count": null,
      "outputs": [
        {
          "output_type": "stream",
          "name": "stdout",
          "text": [
            "Enter the weight of the goods: 11\n",
            "8\n"
          ]
        }
      ]
    },
    {
      "cell_type": "markdown",
      "source": [
        "#Task 7\n",
        "Write a Python program that reads 3 integers A, B, and C respectively, and then reads a floating point number D. After reading, the program should print the result (as int) using the given formula below.\n",
        "Formula110: A^C+B*A-D/3 \n",
        "\n",
        "\n",
        "---\n",
        "\n",
        "\n",
        "Sample Input\n",
        "\n",
        "A=2\n",
        "\n",
        "\n",
        "---\n",
        "\n",
        "\n",
        "B=6\n",
        "\n",
        "\n",
        "---\n",
        "\n",
        "\n",
        "C=8\n",
        "\n",
        "\n",
        "---\n",
        "\n",
        "\n",
        "D=1.3\n",
        "\n",
        "\n",
        "---\n",
        "Sample Output\n",
        "\n",
        "267\n",
        "\n",
        "\n",
        "\n",
        "---\n",
        "\n",
        "\n",
        "\n",
        "A=9\n",
        "\n",
        "\n",
        "---\n",
        "\n",
        "\n",
        "B=100\n",
        "\n",
        "\n",
        "---\n",
        "\n",
        "\n",
        "C=1\n",
        "\n",
        "\n",
        "---\n",
        "\n",
        "\n",
        "D=3.7\n",
        "\n",
        "\n",
        "---\n",
        "Sample Output\n",
        "\n",
        "907\n",
        "\n",
        "\n",
        "---\n",
        "\n",
        "\n",
        "A=88\n",
        "\n",
        "\n",
        "---\n",
        "\n",
        "\n",
        "B=22\n",
        "\n",
        "\n",
        "---\n",
        "\n",
        "\n",
        "C=1\n",
        "\n",
        "\n",
        "---\n",
        "\n",
        "\n",
        "D=3.3\n",
        "\n",
        "\n",
        "---\n",
        "\n",
        "Sample Output\n",
        "\n",
        "2022\n"
      ],
      "metadata": {
        "id": "Qv0-4U3oYLfG"
      }
    },
    {
      "cell_type": "code",
      "source": [
        "A=int(input(\"Enter a number: \"))\n",
        "B=int(input(\"Enter a number: \"))\n",
        "C=int(input(\"Enter a number: \"))\n",
        "D=float(input(\"Enter a number: \"))\n",
        "print(int((A**C)+(B*A)-(D/3)))\n"
      ],
      "metadata": {
        "colab": {
          "base_uri": "https://localhost:8080/"
        },
        "id": "6glObC21occ1",
        "outputId": "9f2ec1af-61c3-4554-b173-308452e99a8d"
      },
      "execution_count": null,
      "outputs": [
        {
          "output_type": "stream",
          "name": "stdout",
          "text": [
            "Enter a number: 88\n",
            "Enter a number: 22\n",
            "Enter a number: 1\n",
            "Enter a number: 3.7\n",
            "2022\n"
          ]
        }
      ]
    },
    {
      "cell_type": "markdown",
      "source": [
        "#Task 8\n",
        "Write a python program that takes an integer from the user which represents the number of chocolates that he/she has. He/She decided to distribute the chocolates equally among 3 friends, keeping the remaining chocolates for him/herself. Find out the number of chocolates each friend will receive and the number of chocolates that will be remaining.\n",
        "\n",
        "\n",
        "---\n",
        "\n",
        "Sample Input 1:\n",
        "\n",
        "50\n",
        "\n",
        "\n",
        "---\n",
        "\n",
        "Sample Output 1:\n",
        "\n",
        "Each friend will receive 16 chocolates\n",
        "\n",
        "The number of remaining chocolates is 2\n",
        "\n",
        "\n",
        "---\n",
        "Sample Input 2:\n",
        "\n",
        "90\n",
        "\n",
        "\n",
        "\n",
        "---\n",
        "Sample Output 2:\n",
        "\n",
        "Each friend will receive 30 chocolates\n",
        "\n",
        "The number of remaining chocolates is 0\n",
        "\n"
      ],
      "metadata": {
        "id": "tLFjE5ymd7Em"
      }
    },
    {
      "cell_type": "code",
      "source": [
        "num_of_choclate = int(input(\"Enter the number of choclate: \"))\n",
        "friends = num_of_choclate//3\n",
        "rem_choclate = num_of_choclate - (friends*3)\n",
        "print(f'Each friend will receive {friends} chocolates')\n",
        "print(f'The number of remaining chocolates is {rem_choclate}')"
      ],
      "metadata": {
        "colab": {
          "base_uri": "https://localhost:8080/"
        },
        "id": "VaHyQxCMcphL",
        "outputId": "0c5655b6-8f60-40b5-c5ae-15b7b601e0b5"
      },
      "execution_count": null,
      "outputs": [
        {
          "output_type": "stream",
          "name": "stdout",
          "text": [
            "Enter the number of choclate: 50\n",
            "Each friend will receive 16 chocolates\n",
            "The number of remaining chocolates is 2\n"
          ]
        }
      ]
    },
    {
      "cell_type": "markdown",
      "source": [
        "Optional (9 - 11) [Ungraded] \n",
        "#Task 9\n",
        "Write a Python program that reads two values M and N from the user respectively and prints the result by joining (concatenating) them in a bottom-up approach as shown in the following example.\n",
        "\n",
        "\n",
        "---\n",
        "Sample Input\n",
        "\n",
        "5\n",
        "\n",
        "2\n",
        "\n",
        "\n",
        "---\n",
        "\n",
        "Sample Output\n",
        "\n",
        "25\n",
        "\n",
        "\n",
        "\n",
        "---\n",
        "\n",
        "Sample Input\n",
        "\n",
        "Hello\n",
        "\n",
        "World\n",
        "\n",
        "\n",
        "\n",
        "---\n",
        "Sample Output\n",
        "\n",
        "\n",
        "\n",
        "WorldHello\n",
        "\n",
        "\n",
        "---\n",
        "\n",
        "Sample Input\n",
        "\n",
        "Python\n",
        "\n",
        "3\n",
        "\n",
        "\n",
        "---\n",
        "\n",
        "Sample Output\n",
        "\n",
        "\n",
        "\n",
        "3Python\n",
        "\n",
        "\n",
        "\n"
      ],
      "metadata": {
        "id": "_AjJHhPqfIp3"
      }
    },
    {
      "cell_type": "code",
      "source": [
        "M = input(\"Enter a number or a string: \")\n",
        "N = input(\"Enter another number or a string: \")\n",
        "print(N+M)"
      ],
      "metadata": {
        "id": "6jOSjrNydJaA"
      },
      "execution_count": null,
      "outputs": []
    },
    {
      "cell_type": "markdown",
      "source": [
        "#Task 10\n",
        "Write a Python program that reads a line from the user and prints the first character of the given input.\n",
        "\n",
        "\n",
        "---\n",
        "Sample Input\n",
        "\n",
        "The quick brown fox jumps over the lazy dog\n",
        "\n",
        "\n",
        "---\n",
        "\n",
        "\n",
        "Sample Output\n",
        "\n",
        "T\n",
        "\n",
        "\n",
        "---\n",
        "Sample Input\n",
        "\n",
        "Python is an interpreted language\n",
        "\n",
        "\n",
        "---\n",
        "Sample Output\n",
        "\n",
        "P"
      ],
      "metadata": {
        "id": "q0fR9XgciGjR"
      }
    },
    {
      "cell_type": "code",
      "source": [
        "sentence=input(\"Enter a sentence: \")\n",
        "print(sentence[0])"
      ],
      "metadata": {
        "colab": {
          "base_uri": "https://localhost:8080/"
        },
        "id": "FivMbxhLgifO",
        "outputId": "a5ecc84a-a1e9-4ba8-95c8-afe4280b7215"
      },
      "execution_count": null,
      "outputs": [
        {
          "output_type": "stream",
          "name": "stdout",
          "text": [
            "Enter a sentence: The quick brown fox jumps over the lazy dog\n",
            "T\n"
          ]
        }
      ]
    },
    {
      "cell_type": "markdown",
      "source": [
        "#Task 11\n",
        "Write a Python program that reads an integer and prints \"True\" if the number is even, otherwise, \"False\".\n",
        "\n",
        "\n",
        "---\n",
        "Sample Input\n",
        "\n",
        "7\n",
        "\n",
        "\n",
        "---\n",
        "Sample Output\n",
        "\n",
        "False\n",
        "\n",
        "\n",
        "\n",
        "\n",
        "\n",
        "---\n",
        "\n",
        "\n",
        "Sample Input\n",
        "\n",
        "0\n",
        "\n",
        "\n",
        "---\n",
        "Sample Output\n",
        "\n",
        "True\n",
        "\n",
        "\n",
        "---\n",
        "\n",
        "Sample Input\n",
        "\n",
        "-11\n",
        "\n",
        "\n",
        "---\n",
        "Sample Output\n",
        "\n",
        "False\n",
        "\n",
        "---\n",
        "Sample Input\n",
        "\n",
        "-26\n",
        "\n",
        "\n",
        "---\n",
        "Sample Output\n",
        "\n",
        "True\n",
        "\n",
        "\n",
        "\n",
        "\n"
      ],
      "metadata": {
        "id": "YDWyY5svi4P1"
      }
    },
    {
      "cell_type": "code",
      "source": [
        "number = int(input(\"Enter a number: \"))\n",
        "if number%2==0:\n",
        "  print(\"True\")\n",
        "else:\n",
        "  print(\"False\")  "
      ],
      "metadata": {
        "colab": {
          "base_uri": "https://localhost:8080/"
        },
        "id": "Ums53OopdYDj",
        "outputId": "5254c95a-29ff-45a0-d0c2-33fd8857fb97"
      },
      "execution_count": null,
      "outputs": [
        {
          "output_type": "stream",
          "name": "stdout",
          "text": [
            "Enter a number: 2\n",
            "True\n"
          ]
        }
      ]
    }
  ]
}