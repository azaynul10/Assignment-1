{
  "nbformat": 4,
  "nbformat_minor": 0,
  "metadata": {
    "colab": {
      "provenance": [],
      "authorship_tag": "ABX9TyMKvSW9UY/1q5Zvvk72o+Ki",
      "include_colab_link": true
    },
    "kernelspec": {
      "name": "python3",
      "display_name": "Python 3"
    },
    "language_info": {
      "name": "python"
    }
  },
  "cells": [
    {
      "cell_type": "markdown",
      "metadata": {
        "id": "view-in-github",
        "colab_type": "text"
      },
      "source": [
        "<a href=\"https://colab.research.google.com/github/azaynul10/Assignments-Of-Programming-Language-1/blob/main/Assignment_5_(Lists).ipynb\" target=\"_parent\"><img src=\"https://colab.research.google.com/assets/colab-badge.svg\" alt=\"Open In Colab\"/></a>"
      ]
    },
    {
      "cell_type": "markdown",
      "source": [
        "This Assignment is to help you develop your concept of Lists in Python.\n",
        "[Please follow variable naming conventions including using meaningful variable names for all the tasks]\n",
        "When you run your code, please make sure your outputs exactly match the sample outputs for each of the sample inputs given. Check if your code works for other valid inputs not given in the samples.\n",
        "Write the code in Python to do the following tasks:\n",
        "#Task 1\n",
        "Write a Python program that reads 5 numbers from the user into a list. After reading each number, print all the numbers that have been entered so far in the list.\n",
        "\n",
        "Example:\n",
        "\n",
        "If the user enters 3, prints “Numbers in the list: [3]”\n",
        "\n",
        "If the user enters 5 next, prints “Numbers in the list: [3, 5]”\n",
        "\n",
        "If the user enters 34, prints “Numbers in the list: [3, 5, 34]”\n",
        "\n",
        "If the user then enters -11, prints “Numbers in the list: [3, 5, 34, -11]”\n",
        "\n",
        "Finally, if the user enters 0 as the last number, prints “Numbers in the list: [3, 5, 34, -11, 0]”\n",
        "\n"
      ],
      "metadata": {
        "id": "WoDgxDAbacMW"
      }
    },
    {
      "cell_type": "code",
      "execution_count": null,
      "metadata": {
        "colab": {
          "base_uri": "https://localhost:8080/"
        },
        "id": "HOFUvj-CSi_F",
        "outputId": "e4094667-9d43-4fc0-b38e-e9fd99e9bd79"
      },
      "outputs": [
        {
          "output_type": "stream",
          "name": "stdout",
          "text": [
            "Enter a list: 0\n",
            "[0]\n",
            "Enter a list: 4\n",
            "[0, 4]\n",
            "Enter a list: 0\n",
            "[0, 4, 0]\n",
            "Enter a list: 8\n",
            "[0, 4, 0, 8]\n",
            "Enter a list: 6\n",
            "[0, 4, 0, 8, 6]\n"
          ]
        }
      ],
      "source": [
        "#Task1\n",
        "list1=[]\n",
        "for i in range(5):\n",
        "  num=input(\"Enter a list: \")\n",
        "  list1.append(int(num))\n",
        "  print(list1)"
      ]
    },
    {
      "cell_type": "markdown",
      "source": [
        "#Task 2\n",
        "Write a Python program that takes a list as an input from the user, then creates a new list excluding the first and last two elements of the given list and prints the new list. If there are not enough elements in the list to do the task, print \"Not possible\".\n",
        "Note: You may use list slicing.\n",
        "\n",
        "\n",
        "---\n",
        "\n",
        "\n",
        "Sample Input 1:\n",
        "\n",
        "[10, 20, 24, 25, 26, 35, 70]\n",
        "\n",
        "Sample Output 1:\n",
        "\n",
        "[24, 25, 26]\n",
        "\n",
        "\n",
        "---\n",
        "\n",
        "\n",
        "Sample Input 2:\n",
        "\n",
        "[10, 20, 24, 25, 26]\n",
        "\n",
        "Sample Output 2:\n",
        "\n",
        "[24]\n",
        "\n",
        "\n",
        "---\n",
        "\n",
        "\n",
        "Sample Input 3:\n",
        "\n",
        "[10, 20, 24, 25]\n",
        "\n",
        "Sample Output 3:\n",
        "\n",
        "[ ]\n",
        "\n",
        "\n",
        "---\n",
        "\n",
        "\n",
        "Sample Input 4:\n",
        "\n",
        "[10, 20, 24]\n",
        "\n",
        "Sample Output 4:\n",
        "\n",
        "Not possible\n",
        "\n"
      ],
      "metadata": {
        "id": "ttggW8Y2bXmG"
      }
    },
    {
      "cell_type": "code",
      "source": [
        "#Task2\n",
        "list1=input()\n",
        "list2=list1[1:-1].split(\", \")\n",
        "print(list2)\n",
        "list3=[]\n",
        "if len(list2)<4:\n",
        "  print(\"Not Possible\")\n",
        "else:\n",
        "  var=list2[2:len(list2)-2]\n",
        "  for i in var:\n",
        "    list3.append(int(i))\n",
        "  print(list1)"
      ],
      "metadata": {
        "colab": {
          "base_uri": "https://localhost:8080/"
        },
        "id": "iDnMS0YpvpG2",
        "outputId": "bf153997-01db-4d02-e0f0-b4d81568e296"
      },
      "execution_count": null,
      "outputs": [
        {
          "output_type": "stream",
          "name": "stdout",
          "text": [
            "[10, 20, 24]\n",
            "['10', '20', '24']\n",
            "Not Possible\n"
          ]
        }
      ]
    },
    {
      "cell_type": "markdown",
      "source": [
        "#Task 3\n",
        "Write a python program that reads 5 numbers from the user into a list, and then prints them in the reverse order.\n",
        "Hint: You may create a list to store the input numbers and then use loop to print them in reverse order\n",
        "\n",
        "\n",
        "---\n",
        "\n",
        "\n",
        "Sample Input:\n",
        "\n",
        "5\n",
        "\n",
        "-5\n",
        "\n",
        "100\n",
        "\n",
        "1\n",
        "\n",
        "0\n",
        "\n",
        "Sample Output:\n",
        "\n",
        "Printing values from the list in reverse order:\n",
        "\n",
        "0\n",
        "\n",
        "1\n",
        "\n",
        "100\n",
        "\n",
        "-5\n",
        "\n",
        "5\n"
      ],
      "metadata": {
        "id": "E6mEaNlvb9Ix"
      }
    },
    {
      "cell_type": "code",
      "source": [
        "\n",
        "#Task3\n",
        "list1=[]\n",
        "output=\"\"\n",
        "for i in range(5):\n",
        "  num=int(input(\"Enter Number: \"))\n",
        "  list1.append(num)\n",
        "  print(\"Printing values from the list in reverse order:\")\n",
        "  for j in range(-1,-(len(list1)+1),-1):\n",
        "    print(list1[j])"
      ],
      "metadata": {
        "id": "i3IxdenI75UF",
        "colab": {
          "base_uri": "https://localhost:8080/"
        },
        "outputId": "e2bf742e-ae3f-4e46-eee5-b09c89fa73f9"
      },
      "execution_count": null,
      "outputs": [
        {
          "output_type": "stream",
          "name": "stdout",
          "text": [
            "Enter Number: 6\n",
            "Printing values from the list in reverse order:\n",
            "6\n",
            "Enter Number: 8\n",
            "Printing values from the list in reverse order:\n",
            "8\n",
            "6\n",
            "Enter Number: 9\n",
            "Printing values from the list in reverse order:\n",
            "9\n",
            "8\n",
            "6\n",
            "Enter Number: 0\n",
            "Printing values from the list in reverse order:\n",
            "0\n",
            "9\n",
            "8\n",
            "6\n",
            "Enter Number: 8\n",
            "Printing values from the list in reverse order:\n",
            "8\n",
            "0\n",
            "9\n",
            "8\n",
            "6\n"
          ]
        }
      ]
    },
    {
      "cell_type": "markdown",
      "source": [
        "#Task 4\n",
        "Write a Python program that turns every item of a list into its square.\n",
        "[Your program should work for any lists; make changes to the lists below and check whether your program works correctly]\n",
        "\n",
        "\n",
        "---\n",
        "\n",
        "\n",
        "Given list 1:\n",
        "\n",
        "[1, 2, 3, 4, 5, 6, 7]\n",
        "\n",
        "Sample Output 1:\n",
        "\n",
        "[1, 4, 9, 16, 25, 36, 49]\n",
        "\n",
        "\n",
        "---\n",
        "\n",
        "\n",
        "Given list 2:\n",
        "\n",
        "[3, 5, 1, 6]\n",
        "\n",
        "Sample Output 2:\n",
        "\n",
        "[9, 25, 1, 36]\n"
      ],
      "metadata": {
        "id": "2iC0Qtl3chq3"
      }
    },
    {
      "cell_type": "code",
      "source": [
        "#Task4\n",
        "list1=[3, 5, 1, 6]\n",
        "list2=[]\n",
        "for i in list1:\n",
        "  list2.append(i**2)\n",
        "print(list2)"
      ],
      "metadata": {
        "id": "JZ8IKtEAGSBL",
        "colab": {
          "base_uri": "https://localhost:8080/"
        },
        "outputId": "bb4b6a9b-4097-4474-8148-63eddd296ce8"
      },
      "execution_count": null,
      "outputs": [
        {
          "output_type": "stream",
          "name": "stdout",
          "text": [
            "[9, 25, 1, 36]\n"
          ]
        }
      ]
    },
    {
      "cell_type": "markdown",
      "source": [
        "#Task 5\n",
        "Write a Python program that removes all Empty strings from a given list and prints the modified list.\n",
        "\n",
        "[Your program should work for any given list; make changes to the list below and check whether your program works correctly]\n",
        "\n",
        "Given List:\n",
        "\n",
        "[\"hey\", \"there\", \"\", \"what's\", \"\", \"up\", \"\", \"?\"]\n",
        "\n",
        "Sample Output:\n",
        "\n",
        "Original List: ['hey', 'there', '', \"what's\", '', 'up', '', '?']\n",
        "\n",
        "Modified List: ['hey', 'there', \"what's\", 'up', '?']\n"
      ],
      "metadata": {
        "id": "SeFIY-Gxc5o_"
      }
    },
    {
      "cell_type": "code",
      "source": [
        "list1=[\"hey\", \"there\", \"\", \"what's\", \"\", \"up\", \"\", \"?\", \"\"]\n",
        "str1=\"\"\n",
        "list2=[]\n",
        "for i in list1:\n",
        "  if str1==i:\n",
        "    continue\n",
        "  else:\n",
        "    list2.append(i)\n",
        "print(\"Original List:\",list1)\n",
        "print(\"Modified List:\",list2)"
      ],
      "metadata": {
        "id": "wnQMgOd5dHMx",
        "colab": {
          "base_uri": "https://localhost:8080/"
        },
        "outputId": "ad0b690c-567f-4fcf-82ed-222bebe148a5"
      },
      "execution_count": null,
      "outputs": [
        {
          "output_type": "stream",
          "name": "stdout",
          "text": [
            "Original List: ['hey', 'there', '', \"what's\", '', 'up', '', '?', '']\n",
            "Modified List: ['hey', 'there', \"what's\", 'up', '?']\n"
          ]
        }
      ]
    },
    {
      "cell_type": "markdown",
      "source": [
        "#Task 6\n",
        "Write a Python program that reads a string containing 7 numbers separated by commas, then makes a list of those numbers and prints the largest number and its location or index position in the list.\n",
        "\n",
        "[You are not allowed to use the max(), sort(), sorted() function here]\n",
        "\n",
        "[Your program should work for any given list; make changes to the list below and check whether your program works correctly]\n",
        "\n",
        "Hint: You may assume the first input to be the largest value initially and the largest value’s location to be 0.\n",
        "Note: You may need to be careful while printing the output. Depending on your code, you might need data conversion.\n",
        "\n",
        "\n",
        "---\n",
        "\n",
        "\n",
        "Sample Input:\n",
        "\n",
        "7, 13, 2, 10, 6, -11, 0\n",
        "\n",
        "Sample Output:\n",
        "\n",
        "My list: [7, 13, 2, 10, 6, -11, 0]\n",
        "\n",
        "Largest number in the list is 13 which was found at index 1.\n"
      ],
      "metadata": {
        "id": "BHk4zsKPcn0e"
      }
    },
    {
      "cell_type": "code",
      "source": [
        "num=input()\n",
        "my_list = num.split(\", \")\n",
        "for i in range(len(my_list)):\n",
        "  my_list[i]=int(my_list[i])\n",
        "max=my_list[0]\n",
        "index=0\n",
        "for i in range(1,len(my_list)):\n",
        "  if my_list[i]>max:\n",
        "      max=my_list[i]\n",
        "      index+=i\n",
        "print(\"My list:\",list1)\n",
        "print('Largest number in the list is {} which was found at index {}.'.format(max,index))"
      ],
      "metadata": {
        "colab": {
          "base_uri": "https://localhost:8080/"
        },
        "id": "9huSzvlzci3n",
        "outputId": "26b1919d-9289-4d54-fb4b-94bcaf17d7d1"
      },
      "execution_count": null,
      "outputs": [
        {
          "output_type": "stream",
          "name": "stdout",
          "text": [
            "7, 13, 2, 10, 6, -11, 0\n",
            "My list: [7, 13, 2, 10, 6, -11, 0]\n",
            "Largest number in the list is 13 which was found at index 1.\n"
          ]
        }
      ]
    },
    {
      "cell_type": "markdown",
      "source": [
        "#Task 7\n",
        "Suppose you have been given two lists. Write a Python program that replaces the last element of the first list with the second list.\n",
        "\n",
        "[Your program should work for any two given lists; make changes to the lists below and check whether your program works correctly]\n",
        "\n",
        "\n",
        "---\n",
        "\n",
        "\n",
        "Sample given lists 1:\n",
        "\n",
        "List_one : [1, 4, 7, 5]\n",
        "\n",
        "List_two : [6, 1, 3, 9]\n",
        "\n",
        "Sample Output 1:\n",
        "\n",
        "[1, 4, 7, 6, 1, 3, 9]\n",
        "\n",
        "\n",
        "---\n",
        "\n",
        "\n",
        "Sample given lists 2:\n",
        "\n",
        "List_one : [1, 3, 5, 7, 9, 10]\n",
        "\n",
        "List_two : [2, 4, 6, 8]\n",
        "\n",
        "Sample Output 2:\n",
        "\n",
        "[1, 3, 5, 7, 9, 2, 4, 6, 8]\n"
      ],
      "metadata": {
        "id": "RyENOmdDhw9x"
      }
    },
    {
      "cell_type": "code",
      "source": [
        "List_one =  [1, 3, 5, 7, 9, 10]\n",
        "List_two = [2, 4, 6, 8]\n",
        "list3=List_one[:-1:]\n",
        "sum_list=list3+List_two\n",
        "print(sum_list)"
      ],
      "metadata": {
        "colab": {
          "base_uri": "https://localhost:8080/"
        },
        "id": "FxREOGdQiWPl",
        "outputId": "cdc3e84e-c13d-4104-c022-a0c5252335cb"
      },
      "execution_count": null,
      "outputs": [
        {
          "output_type": "stream",
          "name": "stdout",
          "text": [
            "[1, 3, 5, 7, 9, 2, 4, 6, 8]\n"
          ]
        }
      ]
    },
    {
      "cell_type": "markdown",
      "source": [
        "#Task 8\n",
        "Assume, you have been given two lists.\\\n",
        " [Your program should work for any two given lists; change the following lists and check whether your program works correctly for the code you have written]\n",
        "\n",
        "list_one = [1, 2, 3, 4, 5, 6, 7, 8, 9]\n",
        "\n",
        "list_two = [10, 11, 12, -13, -14, -15, -16]\n",
        "\n",
        "Write a Python program that creates a new list with all the even elements of both of the given lists and prints the new list.\n",
        "Hint: You may create a third list to store the even elements of the given lists.\n",
        "\n",
        "\n",
        "---\n",
        "\n",
        "\n",
        "Output for the above lists: [2, 4, 6, 8, 10, 12, -14, -16]"
      ],
      "metadata": {
        "id": "MuZexiaIq8iu"
      }
    },
    {
      "cell_type": "code",
      "source": [
        "list1 = [1, 2, 3, 4, 5, 6, 7, 8, 9]\n",
        "list2 = [0,134,56,55]\n",
        "sum_list=list1+list2\n",
        "list3=[]\n",
        "for i in sum_list:\n",
        "  if i%2==0:\n",
        "    list3.append(i)\n",
        "print(list3)"
      ],
      "metadata": {
        "colab": {
          "base_uri": "https://localhost:8080/"
        },
        "id": "u6NcyJTSq8I_",
        "outputId": "cfde97cd-da6e-4b86-e3aa-73f683bddb13"
      },
      "execution_count": null,
      "outputs": [
        {
          "output_type": "stream",
          "name": "stdout",
          "text": [
            "[2, 4, 6, 8, 0, 134, 56]\n"
          ]
        }
      ]
    },
    {
      "cell_type": "markdown",
      "source": [
        "#Task 9\n",
        "Write a Python program that reads a string as an input from the user where multiple numbers are separated by spaces. Then, make a list of numbers from the input string without using the split() function and print the list. Finally, remove all the occurrences of even numbers from the same input list and print the modified list.\n",
        "\n",
        "\n",
        "---\n",
        "\n",
        "\n",
        "Sample Input:\n",
        "\n",
        "7 12 4 55 96 2 11 61 33 42\n",
        "\n",
        "Sample Output:\n",
        "\n",
        "Original list: [7, 12, 4, 55, 96, 2, 11, 61, 33, 42]\n",
        "\n",
        "Modified list: [7, 55, 11, 61, 33]\n"
      ],
      "metadata": {
        "id": "v-U-nQw4sMG1"
      }
    },
    {
      "cell_type": "code",
      "source": [
        "num =input(\"Enter numbers: \")\n",
        "list1=[]\n",
        "list2=[]\n",
        "count=\"\"\n",
        "num=num+\" \"\n",
        "for i in num:\n",
        "    if i!=\" \":\n",
        "        count+=i\n",
        "    else:\n",
        "        list1.append(int(count))\n",
        "        count=\"\"\n",
        "for i in range(len(list1)):\n",
        "    if list1[i]%2!=0:\n",
        "       list2.append(list1[i])\n",
        "    else:\n",
        "        pass\n",
        "print(\"Original list:\",list1)\n",
        "print(\"Modified list:\",list2)"
      ],
      "metadata": {
        "id": "H1zmOLJ6sWTl",
        "colab": {
          "base_uri": "https://localhost:8080/"
        },
        "outputId": "2286d38a-51ed-4bf5-c3cb-c007ab28cb1f"
      },
      "execution_count": null,
      "outputs": [
        {
          "output_type": "stream",
          "name": "stdout",
          "text": [
            "Enter numbers: 7 12 4 55 96 2 11 61 33 42\n",
            "7\n",
            "12\n",
            "4\n",
            "55\n",
            "96\n",
            "2\n",
            "11\n",
            "61\n",
            "33\n",
            "42\n",
            "Original list: [7, 12, 4, 55, 96, 2, 11, 61, 33, 42]\n",
            "Modified list: [7, 55, 11, 61, 33]\n"
          ]
        }
      ]
    },
    {
      "cell_type": "markdown",
      "source": [
        "#Task 10\n",
        "Write a Python program that reads a string as an input from the user where multiple numbers are separated by commas. Then, make a list of numbers from the input string and print the list. Finally, remove multiple occurrences of any numbers from the input list and print the modified list without duplicate values.\n",
        "Hint: You may create a third list to store the results but you may try doing it in the same input list. You can use membership operators (in, not in) to make sure no duplicates are added.\n",
        "\n",
        "\n",
        "---\n",
        "\n",
        "\n",
        "Sample Input 1:\n",
        "\n",
        "0, 0, 1, 2, 3, 4, 4, 5, 6, 6, 6, 7, 8, 9, 4, 4\n",
        "\n",
        "Sample Output 1:\n",
        "\n",
        "Input list: [0, 0, 1, 2, 3, 4, 4, 5, 6, 6, 6, 7, 8, 9, 4, 4]\n",
        "\n",
        "Modified list: [0, 1, 2, 3, 4, 5, 6, 7, 8, 9]\n",
        "\n",
        "\n",
        "---\n",
        "\n",
        "\n",
        "Sample Input 2:\n",
        "7, 7, 7, 1, 0, 3, 3, 55, 9\n",
        "\n",
        "Sample Output 2:\n",
        "\n",
        "Input list: [7, 7, 7, 1, 0, 3, 3, 55, 9]\n",
        "\n",
        "Modified list: [7, 1, 0, 3, 55, 9]\n"
      ],
      "metadata": {
        "id": "dmHg91980haX"
      }
    },
    {
      "cell_type": "code",
      "source": [
        "str1=input().split(\", \")\n",
        "modified_list=[]\n",
        "input_list=[]\n",
        "for i in str1:\n",
        "  str2=int(i)\n",
        "  input_list.append(str2)\n",
        "  if str2 not in modified_list:\n",
        "    modified_list.append(str2)\n",
        "  else:\n",
        "    continue\n",
        "print(\"Input list:\",input_list)\n",
        "print(\"Modified List:\",modified_list)"
      ],
      "metadata": {
        "id": "cNLpCgmL0px3",
        "colab": {
          "base_uri": "https://localhost:8080/"
        },
        "outputId": "98f66eb9-4781-4b55-d3a4-ce3ed50c2778"
      },
      "execution_count": null,
      "outputs": [
        {
          "output_type": "stream",
          "name": "stdout",
          "text": [
            "1, 2, 3, 4, 5, 4\n",
            "Input list: [1, 2, 3, 4, 5, 4]\n",
            "Modified List: [1, 2, 3, 4, 5]\n"
          ]
        }
      ]
    },
    {
      "cell_type": "markdown",
      "source": [
        "#Task 11\n",
        "Assume, you have been given two lists: List_one and List_two.\n",
        "\n",
        "[Your program should work for any two given lists; change the following lists and check whether your program works correctly for the code you have written]\n",
        "\n",
        "Write a Python program that prints \"True\", if the given two lists have at least one common member. Otherwise, print \"False\".\n",
        "Note: Please use concepts of flag and break to solve this task.\n",
        "\n",
        "\n",
        "---\n",
        "\n",
        "\n",
        "\n",
        "Given lists 1:\n",
        "\n",
        "List_one : [1, 4, 3, 2, 6]\n",
        "\n",
        "List_two : [5, 6, 9, 8, 7]\n",
        "\n",
        "Sample Output 1:\n",
        "\n",
        "True\n",
        "\n",
        "\n",
        "---\n",
        "\n",
        "\n",
        "Given lists 2:\n",
        "\n",
        "List_one : [1, 4, 3, 2, 5]\n",
        "\n",
        "List_two : [8, 7, 6, 9]\n",
        "\n",
        "Sample Output 2:\n",
        "\n",
        "False\n"
      ],
      "metadata": {
        "id": "TQckj8Tii55C"
      }
    },
    {
      "cell_type": "code",
      "source": [
        "List_one = [1, 0, 3, 5]\n",
        "List_two = [8, 7, 6, 8]\n",
        "flag = False\n",
        "sum_list=List_one+List_two\n",
        "for i in List_one:\n",
        "    if i in List_two:\n",
        "      flag=True\n",
        "    else:\n",
        "      pass\n",
        "print(flag)"
      ],
      "metadata": {
        "colab": {
          "base_uri": "https://localhost:8080/"
        },
        "id": "SqC98w5ajIq8",
        "outputId": "b072af22-a076-48b8-ac0f-3a6a01bac9bf"
      },
      "execution_count": null,
      "outputs": [
        {
          "output_type": "stream",
          "name": "stdout",
          "text": [
            "False\n"
          ]
        }
      ]
    },
    {
      "cell_type": "markdown",
      "source": [
        "\n",
        "#Task 16\n",
        "Write a Python program that reads 7 numbers into a list and prints the second largest number and its location or index position on the list.\n",
        "\n",
        " [You are not allowed to use the max(), sort(), sorted() function here]\n",
        "\n",
        "\n",
        "---\n",
        "\n",
        "\n",
        "\n",
        "Sample Input:\n",
        "\n",
        "7, 13, 2, 10, 6, -11, 0\n",
        "\n",
        "Sample Output:\n",
        "\n",
        "My list: [7, 13, 2, 10, 6, -11, 0]\n",
        "\n",
        "Second largest number in the list is 10 which was found at index 3.\n",
        "\n"
      ],
      "metadata": {
        "id": "HAXMl2CfqRcX"
      }
    },
    {
      "cell_type": "code",
      "source": [
        "num=input()\n",
        "my_list = num.split(\", \")\n",
        "for i in range(len(my_list)):\n",
        "  my_list[i]=int(my_list[i])\n",
        "max=my_list[0]\n",
        "index=0\n",
        "max2=my_list[0]\n",
        "for i in range(1,len(my_list)):\n",
        "  if my_list[i]>max:\n",
        "      max2=max\n",
        "      max=my_list[i]\n",
        "  elif max>=my_list[i]>=max2:\n",
        "    max2=my_list[i]\n",
        "    index+=i\n",
        "print(\"My list:\",my_list)\n",
        "print(f\"Second largest number in the list is {max2} which was found at index {index}.\")"
      ],
      "metadata": {
        "colab": {
          "base_uri": "https://localhost:8080/"
        },
        "id": "ZzUiTFczSSMy",
        "outputId": "6ac2ab32-b274-40f1-a43e-8c059817079c"
      },
      "execution_count": null,
      "outputs": [
        {
          "output_type": "stream",
          "name": "stdout",
          "text": [
            "7, 13, 2, 10, 6, -11, 0\n",
            "My list: [7, 13, 2, 10, 6, -11, 0]\n",
            "Second largest number in the list is 10 which was found at index 3.\n"
          ]
        }
      ]
    },
    {
      "cell_type": "markdown",
      "source": [
        "# Task 17\n",
        "Write a Python program that reads 5 numbers into a list and prints the smallest and largest number and their locations in the list. [You are not allowed to use the max(), min(), sort(), sorted() functions here]\n",
        "\n",
        "Hint: You may assume the first input to be the largest value initially and the largest value’s location to be 0. Similarly, you can assume the first input to be the smallest value initially and the smallest value’s location to be 0.\n",
        "\n",
        "Note: You may need to be careful while printing the output. Depending on your code, you might need data conversion.\n",
        "\n",
        "\n",
        "---\n",
        "\n",
        "\n",
        "Sample Input:\n",
        "\n",
        "7, 13, -5, 10, 6\n",
        "\n",
        "Sample Output:\n",
        "\n",
        "My list: [7, 13, -5, 10, 6]\n",
        "\n",
        "Smallest number in the list is -5 which was found at index 2\n",
        "\n",
        "Largest number in the list is 13 which was found at index 1\n"
      ],
      "metadata": {
        "id": "5a9YRGAFxSAP"
      }
    },
    {
      "cell_type": "code",
      "source": [
        "myList=[]\n",
        "for i in range(5):\n",
        "  inp = int(input())\n",
        "  myList.append(inp)\n",
        "for i in range(len(myList)):\n",
        "  max=myList[0]\n",
        "  max_index=0\n",
        "  min=myList[0]\n",
        "  min_index=0\n",
        "  if myList[i]>max:\n",
        "    max=myList[i]\n",
        "    max_index+=i\n",
        "  if myList[i]<min:\n",
        "    min=myList[i]\n",
        "    min_index+=i\n",
        "print(\"My List:\",myList)\n",
        "print(f'Smallest number in the list is {min} which was found at index {min_index}')\n",
        "print(f'Largest number in the list is {max} which was found at index {max_index}')"
      ],
      "metadata": {
        "id": "O062XCXesQms",
        "colab": {
          "base_uri": "https://localhost:8080/"
        },
        "outputId": "e4622aef-bfaa-4753-fc32-5a52fcc394c0"
      },
      "execution_count": null,
      "outputs": [
        {
          "output_type": "stream",
          "name": "stdout",
          "text": [
            "4\n",
            "5\n",
            "2\n",
            "5\n",
            "2\n",
            "My List: [4, 5, 2, 5, 2]\n",
            "Smallest number in the list is 2 which was found at index 4\n",
            "Largest number in the list is 4 which was found at index 0\n"
          ]
        }
      ]
    },
    {
      "cell_type": "markdown",
      "source": [
        "# Task 18\n",
        "\n",
        "Write a Python program that takes two lists as an input from the user. Then print a new list with the common elements of both the input lists.\n",
        "Hint: You may need to create a third list to store the results. You can use membership operators (in, not in) to make sure similar elements are added.\n",
        "\n",
        "\n",
        "---\n",
        "\n",
        "\n",
        "Sample Input 1:\n",
        "\n",
        "A, B, C, D\n",
        "\n",
        "C, E, F, B\n",
        "\n",
        "Sample Output 1:\n",
        "\n",
        "['C', 'B']\n",
        "\n",
        "\n",
        "---\n",
        "\n",
        "\n",
        "Sample Input 2:\n",
        "\n",
        "1, 3, A, H, P\n",
        "\n",
        "A, G, 1, P, O\n",
        "\n",
        "Sample Output 2:\n",
        "\n",
        "['1', 'A', 'P']\n"
      ],
      "metadata": {
        "id": "_7yywB_Qxjqr"
      }
    },
    {
      "cell_type": "code",
      "source": [
        "str1=input().split(\", \")\n",
        "str2=input().split(\", \")\n",
        "list3=[]\n",
        "for i in str1:\n",
        "  if i in str2:\n",
        "    list3.append(i)\n",
        "print(list3)"
      ],
      "metadata": {
        "colab": {
          "base_uri": "https://localhost:8080/"
        },
        "id": "9B7KXZDFVtN_",
        "outputId": "4bb9443f-847d-4e71-852d-aab5e13096fe"
      },
      "execution_count": null,
      "outputs": [
        {
          "output_type": "stream",
          "name": "stdout",
          "text": [
            "1, 3, A, H, P\n",
            "A, G, 1, P, O\n",
            "['1', 'A', 'P']\n"
          ]
        }
      ]
    },
    {
      "cell_type": "markdown",
      "source": [
        "# Task 19\n",
        "Assume, you have been given two lists. [Your program should work for any two given lists; make changes to the lists below and check whether your program works correctly]\n",
        "\n",
        "list_one = [1, 2, 2, 4, 5, 5, 7, 99, 200, 303, 70]\n",
        "\n",
        "list_two = [1, 1, 2, 3, 3, 3, 4, 5, 200, 500, -5]\n",
        "\n",
        "Write a Python program that creates a new list with all the unique elements of both the given lists. You need to make sure that there are no duplicates in the resulting list. Finally, print the updated list.\n",
        "Hint: You may create a third list to store the results. You can use membership operators (in, not in) to make sure no duplicates are added.\n",
        "\n",
        "\n",
        "---\n",
        "\n",
        "\n",
        "Output for the above two lists: [1, 2, 4, 5, 7, 99, 200, 303, 70, 3, 500, -5]"
      ],
      "metadata": {
        "id": "M7158ahzyZUJ"
      }
    },
    {
      "cell_type": "code",
      "source": [
        "list_one = [1, 2, 2, 4, 5, 5, 7, 99, 200, 303, 70]\n",
        "list_two = [1, 1, 2, 3, 3, 3, 4, 5, 200, 500, -5]\n",
        "sum_list=list_one+list_two\n",
        "list1=[]\n",
        "for i in sum_list:\n",
        "  if i not in list1:\n",
        "    list1.append(i)\n",
        "print(list1)"
      ],
      "metadata": {
        "colab": {
          "base_uri": "https://localhost:8080/"
        },
        "id": "_m0d9SVyaZfC",
        "outputId": "ad388537-f6b2-462f-e7d1-f9c1c9ac4111"
      },
      "execution_count": null,
      "outputs": [
        {
          "output_type": "stream",
          "name": "stdout",
          "text": [
            "[1, 2, 4, 5, 7, 99, 200, 303, 70, 3, 500, -5]\n"
          ]
        }
      ]
    },
    {
      "cell_type": "code",
      "source": [
        "inp=input()\n",
        "original_data=inp[1:-1]\n"
      ],
      "metadata": {
        "id": "0fmPPzZRwibJ"
      },
      "execution_count": null,
      "outputs": []
    }
  ]
}